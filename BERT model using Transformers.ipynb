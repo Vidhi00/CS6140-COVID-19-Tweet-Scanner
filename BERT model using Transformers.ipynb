{
 "cells": [
  {
   "cell_type": "markdown",
   "id": "47295c6d",
   "metadata": {},
   "source": [
    "<h1><center>CS6140 Project - COVID-19 Tweet Scanner</center></h1>"
   ]
  },
  {
   "cell_type": "markdown",
   "id": "6c1523c0",
   "metadata": {},
   "source": [
    "<h1><center>BERT</center></h1>"
   ]
  },
  {
   "cell_type": "code",
   "execution_count": 1,
   "id": "a5eee654",
   "metadata": {},
   "outputs": [
    {
     "data": {
      "text/html": [
       "<style>.container { width:90% !important; }</style>"
      ],
      "text/plain": [
       "<IPython.core.display.HTML object>"
      ]
     },
     "metadata": {},
     "output_type": "display_data"
    }
   ],
   "source": [
    "from IPython.display import display, HTML\n",
    "display(HTML(\"<style>.container { width:90% !important; }</style>\"))"
   ]
  },
  {
   "cell_type": "markdown",
   "id": "9f0ac191",
   "metadata": {},
   "source": [
    "### Importing Libraries"
   ]
  },
  {
   "cell_type": "code",
   "execution_count": 2,
   "id": "c7abdf99",
   "metadata": {},
   "outputs": [],
   "source": [
    "\n",
    "import numpy as np\n",
    "import pandas as pd\n",
    "import matplotlib.pyplot as plt\n",
    "import seaborn as sns\n",
    "\n",
    "# Pre-processing via sklearn.\n",
    "from sklearn import preprocessing\n",
    "from sklearn.model_selection import train_test_split\n",
    "\n",
    "# Transformers modules.\n",
    "from transformers import BertTokenizerFast\n",
    "from transformers import TFBertModel\n",
    "\n",
    "# Keras\n",
    "import tensorflow as tf\n",
    "\n",
    "\n",
    "# M.L Statistics.\n",
    "from sklearn.metrics import accuracy_score, f1_score\n",
    "from sklearn.metrics import classification_report, confusion_matrix\n",
    "\n",
    "# Setting seed value for reproducibility.\n",
    "seed = 42"
   ]
  },
  {
   "cell_type": "markdown",
   "id": "954d2174",
   "metadata": {},
   "source": [
    "### Reading the data\n",
    "Here we read from the data set into pandas data frame"
   ]
  },
  {
   "cell_type": "code",
   "execution_count": 3,
   "id": "3025d178",
   "metadata": {},
   "outputs": [
    {
     "name": "stdout",
     "output_type": "stream",
     "text": [
      " DF SHAPE      : (41157, 2)\n",
      " DF TEST SHAPE : (41157, 2)\n"
     ]
    }
   ],
   "source": [
    "df = pd.read_csv('Corona_NLP_train.csv', usecols=['OriginalTweet', 'Sentiment'], encoding='ISO-8859-1')\n",
    "df_test = pd.read_csv('Corona_NLP_train.csv', usecols=['OriginalTweet', 'Sentiment'], encoding='ISO-8859-1') \n",
    "\n",
    "# Observing the structure of data.\n",
    "print(f\" DF SHAPE      : {df.shape}\")\n",
    "print(f\" DF TEST SHAPE : {df_test.shape}\")"
   ]
  },
  {
   "cell_type": "markdown",
   "id": "f2851b49",
   "metadata": {},
   "source": [
    "### Pre-Processing Steps\n",
    "\n",
    "The idea is to make data ready for the training.\n",
    "We perform steps below:\n",
    "1. Label Re-Mapping  (Converting text labels to numberical class values).\n",
    "2. Data Sanitisation (Removing elements from our data which hurts the performance/working of the model).\n",
    "3. Data Balancing    (Balancing the number of training examples w.r.t train labels).\n",
    "4. Data Splitting    (Dividing our data into trainable and validation set).\n",
    "5. One-Hot Encoding  (Making numeric classes into list, every index represent a class, value at that index is the truth val. of class).\n",
    "6. Data Re-formatting (Converting our textual data in to encoded data so as to be input into BERT layers)."
   ]
  },
  {
   "cell_type": "code",
   "execution_count": 4,
   "id": "ba849136",
   "metadata": {},
   "outputs": [],
   "source": [
    "# Using pre-trained tokeniser for BERT.\n",
    "# AutoTokenizer.from_pretrained('bert-base-cased') can be used if library issues occur.\n",
    "tokenizer = BertTokenizerFast.from_pretrained('bert-base-uncased')  "
   ]
  },
  {
   "cell_type": "code",
   "execution_count": 5,
   "id": "31b81bc1",
   "metadata": {},
   "outputs": [],
   "source": [
    "# # Extracting number of token in a sentence for all data.\n",
    "# token_lengths = []\n",
    "# max_tokens_to_keep = 256  # Upon prior testing we got a max of 248 token in a tweet, so we keep 256 for now.\n",
    "\n",
    "# for a_sentence in df['Tweet'].values:\n",
    "#     a_sentence = str(a_sentence)\n",
    "    \n",
    "#     # Returns the encoded token list. Ex: \"Hello World\" ==> [456, 5678]\n",
    "#     encodeded_tokens_list = tokenizer.encode(a_sentence, max_length=max_tokens_to_keep, truncation=True)\n",
    "    \n",
    "#     token_lengths.append(len(encodeded_tokens_list))"
   ]
  },
  {
   "cell_type": "code",
   "execution_count": 6,
   "id": "cefd5200",
   "metadata": {},
   "outputs": [],
   "source": [
    "# # To ensure previous step work fine, below code can justify.\n",
    "# max_len = np.max(token_lens)\n",
    "# print(max_len)"
   ]
  },
  {
   "cell_type": "code",
   "execution_count": 7,
   "id": "45cb986a",
   "metadata": {},
   "outputs": [
    {
     "name": "stdout",
     "output_type": "stream",
     "text": [
      "Positive              11422\n",
      "Negative               9917\n",
      "Neutral                7713\n",
      "Extremely Positive     6624\n",
      "Extremely Negative     5481\n",
      "Name: Sentiment, dtype: int64\n"
     ]
    }
   ],
   "source": [
    "# Having a another look of our data distribution from target value point of view.\n",
    "print(df['Sentiment'].value_counts())"
   ]
  },
  {
   "cell_type": "markdown",
   "id": "b5eba7c1",
   "metadata": {},
   "source": [
    "### Label Re-Mapping"
   ]
  },
  {
   "cell_type": "code",
   "execution_count": 8,
   "id": "a0fce854",
   "metadata": {},
   "outputs": [],
   "source": [
    "# We wish to continue with only 3 Target values.\n",
    "# So, we combine them to reduce it to 3.\n",
    "# Now, \n",
    "# Neg + Extr. Neg ==> \"-1\" / \"Negative\"\n",
    "# Pos + Extr. Pos ==> \"+1\" / \"Positive\"\n",
    "# Neutral         ==> \"+0\" / \"Neutral\"\n",
    "\n",
    "# Commented code allows us to play with target values and may be useful for learning purposes.\n",
    "\n",
    "df['Sentiment'] = df['Sentiment'].map(\n",
    "    # {'Extremely Negative': -2, 'Negative': -1, 'Neutral': 0, 'Positive': 1, 'Extremely Positive': 2}\n",
    "    {'Extremely Negative': -1, 'Negative': -1, 'Neutral': 0, 'Positive': 1, 'Extremely Positive': 1}\n",
    ")\n",
    "\n",
    "df_test['Sentiment'] = df_test['Sentiment'].map(\n",
    "    # {'Extremely Negative': -2, 'Negative': -1, 'Neutral': 0, 'Positive': 1, 'Extremely Positive': 2}\n",
    "    {'Extremely Negative': -1, 'Negative': -1, 'Neutral': 0, 'Positive': 1, 'Extremely Positive': 1}\n",
    ")"
   ]
  },
  {
   "cell_type": "code",
   "execution_count": 9,
   "id": "8305451d",
   "metadata": {
    "scrolled": true
   },
   "outputs": [
    {
     "name": "stdout",
     "output_type": "stream",
     "text": [
      " 1    18046\n",
      "-1    15398\n",
      " 0     7713\n",
      "Name: Sentiment, dtype: int64\n",
      " 1    18046\n",
      "-1    15398\n",
      " 0     7713\n",
      "Name: Sentiment, dtype: int64\n"
     ]
    }
   ],
   "source": [
    "print(df['Sentiment'].value_counts())\n",
    "print(df_test['Sentiment'].value_counts())"
   ]
  },
  {
   "cell_type": "markdown",
   "id": "f7908665",
   "metadata": {},
   "source": [
    "### Data Preprocessing"
   ]
  },
  {
   "cell_type": "code",
   "execution_count": 11,
   "id": "d16601fa",
   "metadata": {},
   "outputs": [],
   "source": [
    "import re\n",
    "\n",
    "# Generally, the hyperlinks does not contribute to the sentiment of a tweet, hence removing them is a good idea.\n",
    "df['Tweet'] = df['OriginalTweet'].apply(lambda x: re.split('https:\\/\\/.*', str(x))[0])\n",
    "df_test['Tweet'] = df_test['OriginalTweet'].apply(lambda x: re.split('https:\\/\\/.*', str(x))[0])\n",
    "\n",
    "# Here we remove special characters, numbers, punctuations.\n",
    "df['Tweet'] = df['Tweet'].str.replace('[^a-zA-Z#]+',' ')\n",
    "df_test['Tweet'] = df_test['Tweet'].str.replace('[^a-zA-Z#]+',' ')"
   ]
  },
  {
   "cell_type": "markdown",
   "id": "b8e41b5d",
   "metadata": {},
   "source": [
    "### Oversampling - Data Balancing"
   ]
  },
  {
   "cell_type": "markdown",
   "id": "9bb9c47c",
   "metadata": {},
   "source": [
    "The classes excluding the class with the highest number of samples, are over-sampled to match the sample size of the most frequent class."
   ]
  },
  {
   "cell_type": "code",
   "execution_count": 12,
   "id": "52b4e7b2",
   "metadata": {},
   "outputs": [],
   "source": [
    "# train data is imbalanced, so we oversample our data.\n",
    "\n",
    "from imblearn.over_sampling import RandomOverSampler\n",
    "\n",
    "random_over_sampler = RandomOverSampler()\n",
    "\n",
    "train_x, train_y = random_over_sampler.fit_resample(np.array(df['Tweet']).reshape(-1, 1), np.array(df['Sentiment']).reshape(-1, 1))"
   ]
  },
  {
   "cell_type": "code",
   "execution_count": 13,
   "id": "50e80ec8",
   "metadata": {},
   "outputs": [
    {
     "data": {
      "text/plain": [
       "-1    18046\n",
       " 1    18046\n",
       " 0    18046\n",
       "Name: Sentiment, dtype: int64"
      ]
     },
     "execution_count": 13,
     "metadata": {},
     "output_type": "execute_result"
    }
   ],
   "source": [
    "temp_df = pd.DataFrame ({'Sentiment': train_y })\n",
    "temp_df['Sentiment'].value_counts()"
   ]
  },
  {
   "cell_type": "code",
   "execution_count": 15,
   "id": "4b1994a7",
   "metadata": {},
   "outputs": [],
   "source": [
    "# We create new Data Frame for clarity, this DF is contains our Over-Sampled Data.\n",
    "\n",
    "train_sentences_list = [x[0] for x in train_x]\n",
    "tweet_sentiment_tuple_list = list(zip(train_sentences_list, train_y))\n",
    "\n",
    "# over sampled train data frame\n",
    "o_s_train_df = pd.DataFrame(tweet_sentiment_tuple_list, columns = ['Tweet', 'Sentiment'])"
   ]
  },
  {
   "cell_type": "code",
   "execution_count": 16,
   "id": "45c61bdb",
   "metadata": {},
   "outputs": [],
   "source": [
    "# o_s_train_df.head()"
   ]
  },
  {
   "cell_type": "code",
   "execution_count": 17,
   "id": "da764d9e",
   "metadata": {},
   "outputs": [],
   "source": [
    "# train_os['Sentiment'].value_counts()\n",
    "# train_os = train_os.dropna()"
   ]
  },
  {
   "cell_type": "code",
   "execution_count": 18,
   "id": "8f32f7e2",
   "metadata": {},
   "outputs": [],
   "source": [
    "train_values = o_s_train_df['Tweet'].values\n",
    "target_values = o_s_train_df['Sentiment'].values"
   ]
  },
  {
   "cell_type": "markdown",
   "id": "053e2d91",
   "metadata": {},
   "source": [
    "### Data Splitting"
   ]
  },
  {
   "cell_type": "code",
   "execution_count": 19,
   "id": "cd4bd042",
   "metadata": {},
   "outputs": [],
   "source": [
    "# Let us use the data to create splits of the data.\n",
    "X_train, X_valid, y_train, y_valid = train_test_split(train_values, target_values, test_size=0.1, stratify=target_values, random_state=seed)"
   ]
  },
  {
   "cell_type": "code",
   "execution_count": 20,
   "id": "6f798e6f",
   "metadata": {},
   "outputs": [],
   "source": [
    "# Dropping null values from test data\n",
    "df_test = df_test.dropna()\n",
    "# df = df.dropna()\n",
    "\n",
    "# Preparing test data\n",
    "X_test = df_test['Tweet'].values  # df_test\n",
    "y_test = df_test['Sentiment'].values  # df_test"
   ]
  },
  {
   "cell_type": "markdown",
   "id": "6bca322c",
   "metadata": {},
   "source": [
    "### One-Hot Encoding"
   ]
  },
  {
   "cell_type": "markdown",
   "id": "d97added",
   "metadata": {},
   "source": [
    "This technique is used to match the number of output layer neurons"
   ]
  },
  {
   "cell_type": "code",
   "execution_count": 21,
   "id": "5cb19872",
   "metadata": {},
   "outputs": [],
   "source": [
    "# fitting and transforming the data\n",
    "ohe = preprocessing.OneHotEncoder()\n",
    "\n",
    "y_train = ohe.fit_transform(np.array(y_train).reshape(-1, 1)).toarray()\n",
    "y_valid = ohe.fit_transform(np.array(y_valid).reshape(-1, 1)).toarray()\n",
    "y_test = ohe.fit_transform(np.array(y_test).reshape(-1, 1)).toarray()"
   ]
  },
  {
   "cell_type": "code",
   "execution_count": 22,
   "id": "ded7023e",
   "metadata": {},
   "outputs": [
    {
     "data": {
      "text/plain": [
       "array([[0., 1., 0.],\n",
       "       [1., 0., 0.],\n",
       "       [0., 0., 1.],\n",
       "       ...,\n",
       "       [1., 0., 0.],\n",
       "       [0., 1., 0.],\n",
       "       [0., 0., 1.]])"
      ]
     },
     "execution_count": 22,
     "metadata": {},
     "output_type": "execute_result"
    }
   ],
   "source": [
    "y_train"
   ]
  },
  {
   "cell_type": "code",
   "execution_count": 23,
   "id": "a0fdc39e",
   "metadata": {},
   "outputs": [],
   "source": [
    "# We can see that we had 3 classes and every class is now represented by a list (will be treated as a vector by NN model)."
   ]
  },
  {
   "cell_type": "code",
   "execution_count": 24,
   "id": "9dd99241",
   "metadata": {},
   "outputs": [
    {
     "name": "stdout",
     "output_type": "stream",
     "text": [
      "TRAINING    DATA: 48724\n",
      "VALIDATION  DATA: 5414\n",
      "TESTING     DATA: 41157\n"
     ]
    }
   ],
   "source": [
    "# Let us recap amount of data we have individually.\n",
    "print(f\"TRAINING    DATA: {X_train.shape[0]}\\nVALIDATION  DATA: {X_valid.shape[0]}\\nTESTING     DATA: {X_test.shape[0]}\" )"
   ]
  },
  {
   "cell_type": "code",
   "execution_count": 25,
   "id": "bc6eb902",
   "metadata": {},
   "outputs": [],
   "source": [
    "# Maximum length of a sentence [after encoding]\n",
    "# As we are bound by limited computing resources, we could not go beyond this.\n",
    "MAX_LEN=180  # This will be treated as number of neurons in later stage."
   ]
  },
  {
   "cell_type": "markdown",
   "id": "f4a09fc5",
   "metadata": {},
   "source": [
    " ### Transforming textual data using encoding"
   ]
  },
  {
   "cell_type": "code",
   "execution_count": 26,
   "id": "d0481aa6",
   "metadata": {},
   "outputs": [],
   "source": [
    "# Let us now define a function which will convert our textual data in to encoded data so as to be input into BERT layers. \n",
    "def tokenize_for_bert(given_text_data, max_len=MAX_LEN) :\n",
    "    input_id_list, attention_masks_list = [], []\n",
    "    # c = 0\n",
    "    for i in range(len(given_text_data)):\n",
    "        # try:\n",
    "        encoded_data = tokenizer.encode_plus(given_text_data[i], add_special_tokens=True, max_length=max_len, padding='max_length', return_attention_mask=True)\n",
    "        # except TypeError:\n",
    "            # print(f\"\\n\\n{data[i]}\\n\\n\")\n",
    "            # c+=1\n",
    "            \n",
    "        input_id_list.append(encoded_data['input_ids'])\n",
    "        attention_masks_list.append(encoded_data['attention_mask'])\n",
    "    # print(len(data), c)\n",
    "    return np.array(input_id_list), np.array(attention_masks_list)  # converting them in to numpy array so that it is treated as vectors.\n"
   ]
  },
  {
   "cell_type": "code",
   "execution_count": 27,
   "id": "09cfbff2",
   "metadata": {},
   "outputs": [],
   "source": [
    "# Utilising \"tokenize_for_bert\" function to get data to be fed into NN.\n",
    "train_input_ids, train_attention_masks = tokenize_for_bert(X_train, MAX_LEN)\n",
    "val_input_ids, val_attention_masks = tokenize_for_bert(X_valid, MAX_LEN)\n",
    "test_input_ids, test_attention_masks = tokenize_for_bert(X_test, MAX_LEN)"
   ]
  },
  {
   "cell_type": "code",
   "execution_count": 29,
   "id": "ddc3893d",
   "metadata": {},
   "outputs": [],
   "source": [
    "# train_attention_masks[0]"
   ]
  },
  {
   "cell_type": "markdown",
   "id": "3d355247",
   "metadata": {},
   "source": [
    "# NN Modelling"
   ]
  },
  {
   "cell_type": "markdown",
   "id": "52557cfa",
   "metadata": {},
   "source": [
    "#### Taking the pre trained BERT model."
   ]
  },
  {
   "cell_type": "code",
   "execution_count": 30,
   "id": "f506398d",
   "metadata": {
    "scrolled": false
   },
   "outputs": [
    {
     "name": "stderr",
     "output_type": "stream",
     "text": [
      "Some layers from the model checkpoint at bert-base-uncased were not used when initializing TFBertModel: ['mlm___cls', 'nsp___cls']\n",
      "- This IS expected if you are initializing TFBertModel from the checkpoint of a model trained on another task or with another architecture (e.g. initializing a BertForSequenceClassification model from a BertForPreTraining model).\n",
      "- This IS NOT expected if you are initializing TFBertModel from the checkpoint of a model that you expect to be exactly identical (initializing a BertForSequenceClassification model from a BertForSequenceClassification model).\n",
      "All the layers of TFBertModel were initialized from the model checkpoint at bert-base-uncased.\n",
      "If your task is similar to the task the model of the checkpoint was trained on, you can already use TFBertModel for predictions without further training.\n"
     ]
    }
   ],
   "source": [
    "bert_model = TFBertModel.from_pretrained('bert-base-uncased')"
   ]
  },
  {
   "cell_type": "markdown",
   "id": "2f726bc7",
   "metadata": {},
   "source": [
    "#### Setting up a function with semi-predefined parameters."
   ]
  },
  {
   "cell_type": "code",
   "execution_count": 31,
   "id": "9e8bb851",
   "metadata": {},
   "outputs": [],
   "source": [
    "# This function will create an End to End Neural Network model for our cllassification purpose.\n",
    "def create_model(bert_model, max_len=MAX_LEN):\n",
    "    \n",
    "    # # Setting up hyper parameters for our Neural Network.\n",
    "    \n",
    "    # Adam combines the best properties of the AdaGrad and RMSProp algorithms to provide an optimization algorithm that can handle sparse gradients on noisy problems.\n",
    "    optimiser = tf.keras.optimizers.Adam(learning_rate=1e-5, decay=1e-7)  \n",
    "    \n",
    "    # Categorical crossentropy loss function is suitable multi-class classification tasks.\n",
    "    loss_function = tf.keras.losses.CategoricalCrossentropy()\n",
    "    \n",
    "    # Because we are using one-hot encoded target (Y) values, and we know that,\n",
    "    # Categorical Accuracy calculates the percentage of predicted values (Y-Pred) that match with actual values (Y-True) for one-hot labels.\n",
    "    # Hence it suits our case.\n",
    "    accuracy_metric = tf.keras.metrics.CategoricalAccuracy()\n",
    "\n",
    "\n",
    "    # Setting Up Pre-Requisite Layers for BERT.\n",
    "    input_ids_layer = tf.keras.Input(shape=(max_len,),dtype='int32')  # creating a NN layer for Input Ids.\n",
    "    attention_masks_layer = tf.keras.Input(shape=(max_len,),dtype='int32')  # creating a NN layer for Input Ids.\n",
    "    \n",
    "    # Setting Up BERT Embeddings Layer.\n",
    "    # Fun Fact : This is the particular layer which will gives us contextualised vectors for our input sentences.\n",
    "    bert_embeddings_layer = bert_model([input_ids_layer, attention_masks_layer])[1]\n",
    "    \n",
    "    # The layer which will gives us the classifications.\n",
    "    # Activation function ==> \"Softmax\" || Because, in general for multi-class classification problems it is best suited.\n",
    "    output_layer = tf.keras.layers.Dense(3, activation=\"softmax\")(bert_embeddings_layer)\n",
    "    \n",
    "    # Defining The input and Output Layers\n",
    "    BERT_NN = tf.keras.models.Model(inputs = [input_ids_layer, attention_masks_layer], outputs = output_layer)\n",
    "    \n",
    "    # The Compile function defines the loss function, the optimizer and the metrics for our Neu. Net. .\n",
    "    BERT_NN.compile(optimiser, loss=loss_function, metrics=accuracy_metric)\n",
    "    \n",
    "    \n",
    "    return BERT_NN"
   ]
  },
  {
   "cell_type": "markdown",
   "id": "704791a6",
   "metadata": {},
   "source": [
    "#### Model implementation"
   ]
  },
  {
   "cell_type": "code",
   "execution_count": 32,
   "id": "a2f9d56a",
   "metadata": {
    "scrolled": true
   },
   "outputs": [
    {
     "name": "stdout",
     "output_type": "stream",
     "text": [
      "Model: \"model\"\n",
      "__________________________________________________________________________________________________\n",
      "Layer (type)                    Output Shape         Param #     Connected to                     \n",
      "==================================================================================================\n",
      "input_1 (InputLayer)            [(None, 180)]        0                                            \n",
      "__________________________________________________________________________________________________\n",
      "input_2 (InputLayer)            [(None, 180)]        0                                            \n",
      "__________________________________________________________________________________________________\n",
      "tf_bert_model (TFBertModel)     TFBaseModelOutputWit 109482240   input_1[0][0]                    \n",
      "                                                                 input_2[0][0]                    \n",
      "__________________________________________________________________________________________________\n",
      "dense (Dense)                   (None, 3)            2307        tf_bert_model[0][1]              \n",
      "==================================================================================================\n",
      "Total params: 109,484,547\n",
      "Trainable params: 109,484,547\n",
      "Non-trainable params: 0\n",
      "__________________________________________________________________________________________________\n"
     ]
    }
   ],
   "source": [
    "# Creating the model.\n",
    "BERT_NN = create_model(bert_model, MAX_LEN)\n",
    "\n",
    "# Displaying a summary of our model\n",
    "BERT_NN.summary()"
   ]
  },
  {
   "cell_type": "markdown",
   "id": "45b1b86f",
   "metadata": {},
   "source": [
    "### Model Training"
   ]
  },
  {
   "cell_type": "code",
   "execution_count": 34,
   "id": "ddbefbf6",
   "metadata": {
    "scrolled": true
   },
   "outputs": [
    {
     "name": "stdout",
     "output_type": "stream",
     "text": [
      "Epoch 1/4\n",
      "3046/3046 [==============================] - 754s 247ms/step - loss: 0.2342 - categorical_accuracy: 0.9163 - val_loss: 0.2276 - val_categorical_accuracy: 0.9224\n",
      "Epoch 2/4\n",
      "3046/3046 [==============================] - 755s 248ms/step - loss: 0.1559 - categorical_accuracy: 0.9458 - val_loss: 0.2192 - val_categorical_accuracy: 0.9285\n",
      "Epoch 3/4\n",
      "3046/3046 [==============================] - 756s 248ms/step - loss: 0.1062 - categorical_accuracy: 0.9629 - val_loss: 0.1895 - val_categorical_accuracy: 0.9442\n",
      "Epoch 4/4\n",
      "3046/3046 [==============================] - 755s 248ms/step - loss: 0.0701 - categorical_accuracy: 0.9759 - val_loss: 0.2131 - val_categorical_accuracy: 0.9446\n"
     ]
    }
   ],
   "source": [
    "## Putting model on training now.\n",
    "history_object_for_our_model = \\\n",
    "BERT_NN.fit(\n",
    "    x= [train_input_ids, train_attention_masks], \n",
    "    y= y_train,\n",
    "    validation_data=([val_input_ids, val_attention_masks], y_valid),\n",
    "    epochs=4,  # 4\n",
    "    batch_size=16\n",
    ")"
   ]
  },
  {
   "cell_type": "code",
   "execution_count": 35,
   "id": "ba2385c3",
   "metadata": {},
   "outputs": [],
   "source": [
    "# history_object_for_our_model.params"
   ]
  },
  {
   "cell_type": "markdown",
   "id": "8e815055",
   "metadata": {},
   "source": [
    "#### Predicting the test data"
   ]
  },
  {
   "cell_type": "code",
   "execution_count": 36,
   "id": "66d68056",
   "metadata": {},
   "outputs": [],
   "source": [
    "prediction_result = BERT_NN.predict([test_input_ids, test_attention_masks])"
   ]
  },
  {
   "cell_type": "code",
   "execution_count": 37,
   "id": "d6308fb0",
   "metadata": {},
   "outputs": [],
   "source": [
    "# Creating an n-d array, the shape of the array will be as our \"prediction_result\".\n",
    "y_pred = np.zeros_like(prediction_result)\n",
    "\n",
    "# We need to do this because, the output from the NN will be some values, \n",
    "# and we need to check which one of them is max and hence that will be the predicted class."
   ]
  },
  {
   "cell_type": "code",
   "execution_count": 38,
   "id": "bd3ed420",
   "metadata": {},
   "outputs": [],
   "source": [
    "# Here we set the value 1, to the place in a prediction, which holds the maximum value.\n",
    "y_pred[np.arange(len(y_pred)), prediction_result.argmax(1)] = 1\n",
    "\n",
    "# print(prediction_result.argmax(1))\n",
    "# print(np.arange(len(y_pred)))"
   ]
  },
  {
   "cell_type": "markdown",
   "id": "a1ced1ce",
   "metadata": {},
   "source": [
    "## Performance Results"
   ]
  },
  {
   "cell_type": "code",
   "execution_count": 39,
   "id": "68daa0ef",
   "metadata": {},
   "outputs": [],
   "source": [
    "## Defining function for the confusion matrix.\n",
    "def show_confusion_matrix(y, _y_pred, title):\n",
    "    fig, ax =plt.subplots(figsize=(8,8))\n",
    "    \n",
    "    # labels=['Extreme Negative', 'Negative', 'Neutral', 'Positive', 'Extreme Positive']\n",
    "    labels=['Negative', 'Neutral', 'Positive']  # In relative order of -1, 0 , +1 .\n",
    "    \n",
    "    ax=sns.heatmap(confusion_matrix(y, _y_pred), annot=True, cmap=\"Blues\", fmt='g', cbar=False, annot_kws={\"size\":25})\n",
    "    plt.title(title, fontsize=20)\n",
    "    ax.xaxis.set_ticklabels(labels, fontsize=18) \n",
    "    ax.yaxis.set_ticklabels(labels, fontsize=18)\n",
    "    ax.set_ylabel('TEST CLASSES', fontsize=20)\n",
    "    ax.set_xlabel('PREDICTED CLASSES', fontsize=20)\n",
    "    plt.show()"
   ]
  },
  {
   "cell_type": "markdown",
   "id": "0b7fe910",
   "metadata": {},
   "source": [
    "### Plotting the confusion matrix"
   ]
  },
  {
   "cell_type": "code",
   "execution_count": 40,
   "id": "52178b76",
   "metadata": {},
   "outputs": [
    {
     "data": {
      "image/png": "[encoded data removed]",
      "text/plain": [
       "<Figure size 576x576 with 1 Axes>"
      ]
     },
     "metadata": {
      "needs_background": "light"
     },
     "output_type": "display_data"
    }
   ],
   "source": [
    "show_confusion_matrix(y=y_test.argmax(1), _y_pred=y_pred.argmax(1), title='Confusion Matrix\\nBERT')"
   ]
  },
  {
   "cell_type": "markdown",
   "id": "8e5de0d4",
   "metadata": {},
   "source": [
    "### Evaluation Results"
   ]
  },
  {
   "cell_type": "code",
   "execution_count": 41,
   "id": "b06cac57",
   "metadata": {},
   "outputs": [
    {
     "name": "stdout",
     "output_type": "stream",
     "text": [
      "_______________Classification Report for BERT_______________\n",
      "\n",
      "\n",
      "              precision    recall  f1-score   support\n",
      "\n",
      "    Negative       0.99      0.99      0.99     15398\n",
      "     Neutral       0.96      0.98      0.97      7713\n",
      "    Positive       0.99      0.98      0.99     18046\n",
      "\n",
      "   micro avg       0.98      0.98      0.98     41157\n",
      "   macro avg       0.98      0.98      0.98     41157\n",
      "weighted avg       0.98      0.98      0.98     41157\n",
      " samples avg       0.98      0.98      0.98     41157\n",
      "\n",
      "\n",
      "Test Accuracy -----> 0.9846684646597177\n"
     ]
    }
   ],
   "source": [
    "print('_______________Classification Report for BERT_______________\\n\\n')\n",
    "\n",
    "classif_obj = classification_report(y_test, y_pred, \n",
    "                                    target_names=['Negative', 'Neutral', 'Positive']  # ['Extreme Negative', 'Negative', 'Neutral', 'Positive', 'Extreme Positive']\n",
    "                                   )\n",
    "print(classif_obj)\n",
    "     \n",
    "print(f\"\\nTest Accuracy -----> {accuracy_score(y_test,y_pred)}\")\n",
    "# print(f\"Train Accuracy --> {accuracy_score(y_test,y_pred)}\")"
   ]
  }
 ],
 "metadata": {
  "kernelspec": {
   "display_name": "Python 3 (ipykernel)",
   "language": "python",
   "name": "python3"
  },
  "language_info": {
   "codemirror_mode": {
    "name": "ipython",
    "version": 3
   },
   "file_extension": ".py",
   "mimetype": "text/x-python",
   "name": "python",
   "nbconvert_exporter": "python",
   "pygments_lexer": "ipython3",
   "version": "3.8.8"
  }
 },
 "nbformat": 4,
 "nbformat_minor": 5
}
