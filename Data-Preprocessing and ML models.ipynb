{
 "cells": [
  {
   "cell_type": "markdown",
   "id": "8873e041",
   "metadata": {},
   "source": [
    "<h1><center>CS6140 Project - COVID-19 Tweet Scanner</center></h1>"
   ]
  },
  {
   "cell_type": "code",
   "execution_count": 1,
   "id": "fcd06e9c",
   "metadata": {
    "scrolled": true
   },
   "outputs": [],
   "source": [
    "# Importing the libraries\n",
    "import pandas as pd\n",
    "import numpy as np\n",
    "from numpy import percentile\n",
    "import matplotlib.pyplot as plt\n",
    "import seaborn as sns\n",
    "import matplotlib\n",
    "import re # for regular expressions\n",
    "import pandas as pd \n",
    "pd.set_option(\"display.max_colwidth\", 200) \n",
    "import string\n",
    "import nltk # for text manipulation\n",
    "from nltk.stem.porter import *\n",
    "from nltk.corpus import stopwords\n",
    "from sklearn.feature_extraction.text import TfidfVectorizer, CountVectorizer\n",
    "from tqdm import tqdm\n",
    "import gensim\n",
    "from sklearn.linear_model import LogisticRegression\n",
    "from scipy import stats \n",
    "from sklearn import metrics \n",
    "from sklearn.metrics import mean_squared_error,mean_absolute_error, make_scorer,classification_report,confusion_matrix,accuracy_score,roc_auc_score,roc_curve\n",
    "from sklearn.model_selection import train_test_split,cross_val_score,KFold\n",
    "from sklearn.model_selection import train_test_split\n",
    "from sklearn.metrics import f1_score\n",
    "from sklearn.naive_bayes import BernoulliNB\n",
    "from sklearn import svm\n",
    "from sklearn.ensemble import RandomForestClassifier\n",
    "import warnings \n",
    "warnings.filterwarnings(\"ignore\")"
   ]
  },
  {
   "cell_type": "code",
   "execution_count": 2,
   "id": "090e899a",
   "metadata": {},
   "outputs": [
    {
     "data": {
      "text/html": [
       "<div>\n",
       "<style scoped>\n",
       "    .dataframe tbody tr th:only-of-type {\n",
       "        vertical-align: middle;\n",
       "    }\n",
       "\n",
       "    .dataframe tbody tr th {\n",
       "        vertical-align: top;\n",
       "    }\n",
       "\n",
       "    .dataframe thead th {\n",
       "        text-align: right;\n",
       "    }\n",
       "</style>\n",
       "<table border=\"1\" class=\"dataframe\">\n",
       "  <thead>\n",
       "    <tr style=\"text-align: right;\">\n",
       "      <th></th>\n",
       "      <th>UserName</th>\n",
       "      <th>ScreenName</th>\n",
       "      <th>Location</th>\n",
       "      <th>TweetAt</th>\n",
       "      <th>OriginalTweet</th>\n",
       "      <th>Sentiment</th>\n",
       "    </tr>\n",
       "  </thead>\n",
       "  <tbody>\n",
       "    <tr>\n",
       "      <th>0</th>\n",
       "      <td>3799</td>\n",
       "      <td>48751</td>\n",
       "      <td>London</td>\n",
       "      <td>16-03-2020</td>\n",
       "      <td>@MeNyrbie @Phil_Gahan @Chrisitv https://t.co/iFz9FAn2Pa and https://t.co/xX6ghGFzCC and https://t.co/I2NlzdxNo8</td>\n",
       "      <td>Neutral</td>\n",
       "    </tr>\n",
       "    <tr>\n",
       "      <th>1</th>\n",
       "      <td>3800</td>\n",
       "      <td>48752</td>\n",
       "      <td>UK</td>\n",
       "      <td>16-03-2020</td>\n",
       "      <td>advice Talk to your neighbours family to exchange phone numbers create contact list with phone numbers of neighbours schools employer chemist GP set up online shopping accounts if poss adequate su...</td>\n",
       "      <td>Positive</td>\n",
       "    </tr>\n",
       "    <tr>\n",
       "      <th>2</th>\n",
       "      <td>3801</td>\n",
       "      <td>48753</td>\n",
       "      <td>Vagabonds</td>\n",
       "      <td>16-03-2020</td>\n",
       "      <td>Coronavirus Australia: Woolworths to give elderly, disabled dedicated shopping hours amid COVID-19 outbreak https://t.co/bInCA9Vp8P</td>\n",
       "      <td>Positive</td>\n",
       "    </tr>\n",
       "    <tr>\n",
       "      <th>3</th>\n",
       "      <td>3802</td>\n",
       "      <td>48754</td>\n",
       "      <td>NaN</td>\n",
       "      <td>16-03-2020</td>\n",
       "      <td>My food stock is not the only one which is empty...\\r\\r\\n\\r\\r\\nPLEASE, don't panic, THERE WILL BE ENOUGH FOOD FOR EVERYONE if you do not take more than you need. \\r\\r\\nStay calm, stay safe.\\r\\r\\n\\...</td>\n",
       "      <td>Positive</td>\n",
       "    </tr>\n",
       "    <tr>\n",
       "      <th>4</th>\n",
       "      <td>3803</td>\n",
       "      <td>48755</td>\n",
       "      <td>NaN</td>\n",
       "      <td>16-03-2020</td>\n",
       "      <td>Me, ready to go at supermarket during the #COVID19 outbreak.\\r\\r\\n\\r\\r\\nNot because I'm paranoid, but because my food stock is litteraly empty. The #coronavirus is a serious thing, but please, don...</td>\n",
       "      <td>Extremely Negative</td>\n",
       "    </tr>\n",
       "  </tbody>\n",
       "</table>\n",
       "</div>"
      ],
      "text/plain": [
       "   UserName  ScreenName   Location     TweetAt  \\\n",
       "0      3799       48751     London  16-03-2020   \n",
       "1      3800       48752         UK  16-03-2020   \n",
       "2      3801       48753  Vagabonds  16-03-2020   \n",
       "3      3802       48754        NaN  16-03-2020   \n",
       "4      3803       48755        NaN  16-03-2020   \n",
       "\n",
       "                                                                                                                                                                                             OriginalTweet  \\\n",
       "0                                                                                          @MeNyrbie @Phil_Gahan @Chrisitv https://t.co/iFz9FAn2Pa and https://t.co/xX6ghGFzCC and https://t.co/I2NlzdxNo8   \n",
       "1  advice Talk to your neighbours family to exchange phone numbers create contact list with phone numbers of neighbours schools employer chemist GP set up online shopping accounts if poss adequate su...   \n",
       "2                                                                      Coronavirus Australia: Woolworths to give elderly, disabled dedicated shopping hours amid COVID-19 outbreak https://t.co/bInCA9Vp8P   \n",
       "3  My food stock is not the only one which is empty...\\r\\r\\n\\r\\r\\nPLEASE, don't panic, THERE WILL BE ENOUGH FOOD FOR EVERYONE if you do not take more than you need. \\r\\r\\nStay calm, stay safe.\\r\\r\\n\\...   \n",
       "4  Me, ready to go at supermarket during the #COVID19 outbreak.\\r\\r\\n\\r\\r\\nNot because I'm paranoid, but because my food stock is litteraly empty. The #coronavirus is a serious thing, but please, don...   \n",
       "\n",
       "            Sentiment  \n",
       "0             Neutral  \n",
       "1            Positive  \n",
       "2            Positive  \n",
       "3            Positive  \n",
       "4  Extremely Negative  "
      ]
     },
     "execution_count": 2,
     "metadata": {},
     "output_type": "execute_result"
    }
   ],
   "source": [
    "path = 'COVID19 Tweets.csv'\n",
    "df = pd.read_csv(path,encoding = 'latin')\n",
    "df.head()"
   ]
  },
  {
   "cell_type": "code",
   "execution_count": 3,
   "id": "54b59b63",
   "metadata": {},
   "outputs": [
    {
     "name": "stdout",
     "output_type": "stream",
     "text": [
      "<class 'pandas.core.frame.DataFrame'>\n",
      "RangeIndex: 41157 entries, 0 to 41156\n",
      "Data columns (total 6 columns):\n",
      " #   Column         Non-Null Count  Dtype \n",
      "---  ------         --------------  ----- \n",
      " 0   UserName       41157 non-null  int64 \n",
      " 1   ScreenName     41157 non-null  int64 \n",
      " 2   Location       32567 non-null  object\n",
      " 3   TweetAt        41157 non-null  object\n",
      " 4   OriginalTweet  41157 non-null  object\n",
      " 5   Sentiment      41157 non-null  object\n",
      "dtypes: int64(2), object(4)\n",
      "memory usage: 1.9+ MB\n"
     ]
    }
   ],
   "source": [
    "df.info()"
   ]
  },
  {
   "cell_type": "markdown",
   "id": "8f987807",
   "metadata": {},
   "source": [
    "#### This shows that there are null values in the location column."
   ]
  },
  {
   "cell_type": "markdown",
   "id": "9ee9eca6",
   "metadata": {},
   "source": [
    "## Exploratory Data Analysis"
   ]
  },
  {
   "cell_type": "code",
   "execution_count": 4,
   "id": "15b2af5e",
   "metadata": {},
   "outputs": [
    {
     "data": {
      "text/plain": [
       "(41157, 6)"
      ]
     },
     "execution_count": 4,
     "metadata": {},
     "output_type": "execute_result"
    }
   ],
   "source": [
    "#41157 rows and 6 columns in our dataset\n",
    "df.shape"
   ]
  },
  {
   "cell_type": "code",
   "execution_count": 5,
   "id": "58b4c1bf",
   "metadata": {},
   "outputs": [
    {
     "data": {
      "text/plain": [
       "Index(['UserName', 'ScreenName', 'Location', 'TweetAt', 'OriginalTweet',\n",
       "       'Sentiment'],\n",
       "      dtype='object')"
      ]
     },
     "execution_count": 5,
     "metadata": {},
     "output_type": "execute_result"
    }
   ],
   "source": [
    "# Names Of columns in our dataset\n",
    "df.columns"
   ]
  },
  {
   "cell_type": "code",
   "execution_count": 6,
   "id": "87f0d6be",
   "metadata": {},
   "outputs": [
    {
     "data": {
      "text/plain": [
       "20-03-2020    3448\n",
       "19-03-2020    3215\n",
       "25-03-2020    2979\n",
       "18-03-2020    2742\n",
       "21-03-2020    2653\n",
       "22-03-2020    2114\n",
       "23-03-2020    2062\n",
       "17-03-2020    1977\n",
       "08-04-2020    1881\n",
       "07-04-2020    1843\n",
       "06-04-2020    1742\n",
       "24-03-2020    1480\n",
       "09-04-2020    1471\n",
       "13-04-2020    1428\n",
       "26-03-2020    1277\n",
       "05-04-2020    1131\n",
       "10-04-2020    1005\n",
       "02-04-2020     954\n",
       "11-04-2020     909\n",
       "03-04-2020     810\n",
       "12-04-2020     803\n",
       "04-04-2020     767\n",
       "16-03-2020     656\n",
       "01-04-2020     630\n",
       "27-03-2020     345\n",
       "31-03-2020     316\n",
       "14-04-2020     284\n",
       "29-03-2020     125\n",
       "30-03-2020      87\n",
       "28-03-2020      23\n",
       "Name: TweetAt, dtype: int64"
      ]
     },
     "execution_count": 6,
     "metadata": {},
     "output_type": "execute_result"
    }
   ],
   "source": [
    "# TweetAt - March and April 2020\n",
    "df.TweetAt.value_counts()"
   ]
  },
  {
   "cell_type": "code",
   "execution_count": 7,
   "id": "4fb5a8c8",
   "metadata": {},
   "outputs": [
    {
     "data": {
      "text/plain": [
       "London                          540\n",
       "United States                   528\n",
       "London, England                 520\n",
       "New York, NY                    395\n",
       "Washington, DC                  373\n",
       "                               ... \n",
       "Staffordshire Moorlands           1\n",
       "Kithchener ON                     1\n",
       "Tulsa, Ok                         1\n",
       "Watford, South Oxhey, Bushey      1\n",
       "i love you so much || he/him      1\n",
       "Name: Location, Length: 12220, dtype: int64"
      ]
     },
     "execution_count": 7,
     "metadata": {},
     "output_type": "execute_result"
    }
   ],
   "source": [
    "# There are 12220 unique locations from where the tweets came.\n",
    "df['Location'].value_counts()"
   ]
  },
  {
   "cell_type": "code",
   "execution_count": 8,
   "id": "4839f89c",
   "metadata": {
    "scrolled": true
   },
   "outputs": [
    {
     "data": {
      "text/plain": [
       "Positive              11422\n",
       "Negative               9917\n",
       "Neutral                7713\n",
       "Extremely Positive     6624\n",
       "Extremely Negative     5481\n",
       "Name: Sentiment, dtype: int64"
      ]
     },
     "execution_count": 8,
     "metadata": {},
     "output_type": "execute_result"
    }
   ],
   "source": [
    "# There are 5 unique label values (sentiment types) in our dataset\n",
    "df['Sentiment'].value_counts()"
   ]
  },
  {
   "cell_type": "markdown",
   "id": "23519978",
   "metadata": {},
   "source": [
    "### Unique Values In Each Feature Coulmn"
   ]
  },
  {
   "cell_type": "code",
   "execution_count": 9,
   "id": "723fab9d",
   "metadata": {},
   "outputs": [
    {
     "data": {
      "image/png": "[encoded data removed]",
      "text/plain": [
       "<Figure size 864x504 with 1 Axes>"
      ]
     },
     "metadata": {
      "needs_background": "light"
     },
     "output_type": "display_data"
    }
   ],
   "source": [
    "unique_df = pd.DataFrame()\n",
    "unique_df['Features'] = df.columns\n",
    "unique=[]\n",
    "for i in df.columns:\n",
    "    unique.append(df[i].nunique())\n",
    "unique_df['Uniques'] = unique\n",
    "\n",
    "f, ax = plt.subplots(1,1,figsize=(12,7))\n",
    "\n",
    "splot = sns.barplot(x=unique_df['Features'], y=unique_df['Uniques'], alpha=0.8)\n",
    "for p in splot.patches:\n",
    "    splot.annotate(format(p.get_height(), '.0f'), (p.get_x() + p.get_width() / 2., p.get_height()), ha = 'center',\n",
    "                   va = 'center', xytext = (0, 9), textcoords = 'offset points')\n",
    "plt.title('Bar plot for number of unique values in each column', size=14)\n",
    "plt.ylabel('Count', size=12)\n",
    "plt.xlabel('Features', size=12)\n",
    "plt.xticks(rotation=90)\n",
    "plt.show()"
   ]
  },
  {
   "cell_type": "markdown",
   "id": "cff93e67",
   "metadata": {},
   "source": [
    "### Plot of frequent Locations Of Tweet"
   ]
  },
  {
   "cell_type": "code",
   "execution_count": 10,
   "id": "e4b58bc9",
   "metadata": {},
   "outputs": [],
   "source": [
    "# pip install plotly"
   ]
  },
  {
   "cell_type": "code",
   "execution_count": 11,
   "id": "8351c6f5",
   "metadata": {},
   "outputs": [
    {
     "data": {
      "application/vnd.plotly.v1+json": {
       "config": {
        "plotlyServerURL": "https://plot.ly"
       },
       "data": [
        {
         "domain": {
          "column": 0
         },
         "hole": 0.4,
         "hoverinfo": "label+percent+name",
         "labels": [
          "London",
          "United States",
          "London, England",
          "New York, NY",
          "Washington, DC",
          "United Kingdom",
          "Los Angeles, CA",
          "India",
          "UK",
          "Australia",
          "USA",
          "Canada",
          "England, United Kingdom",
          "Toronto, Ontario",
          "Global"
         ],
         "name": "Location Name",
         "type": "pie",
         "values": [
          540,
          528,
          520,
          395,
          373,
          337,
          281,
          268,
          232,
          225,
          223,
          191,
          191,
          160,
          159
         ]
        }
       ],
       "layout": {
        "legend": {
         "orientation": "h",
         "x": 0.1,
         "y": 1.1
        },
        "template": {
         "data": {
          "bar": [
           {
            "error_x": {
             "color": "#2a3f5f"
            },
            "error_y": {
             "color": "#2a3f5f"
            },
            "marker": {
             "line": {
              "color": "#E5ECF6",
              "width": 0.5
             },
             "pattern": {
              "fillmode": "overlay",
              "size": 10,
              "solidity": 0.2
             }
            },
            "type": "bar"
           }
          ],
          "barpolar": [
           {
            "marker": {
             "line": {
              "color": "#E5ECF6",
              "width": 0.5
             },
             "pattern": {
              "fillmode": "overlay",
              "size": 10,
              "solidity": 0.2
             }
            },
            "type": "barpolar"
           }
          ],
          "carpet": [
           {
            "aaxis": {
             "endlinecolor": "#2a3f5f",
             "gridcolor": "white",
             "linecolor": "white",
             "minorgridcolor": "white",
             "startlinecolor": "#2a3f5f"
            },
            "baxis": {
             "endlinecolor": "#2a3f5f",
             "gridcolor": "white",
             "linecolor": "white",
             "minorgridcolor": "white",
             "startlinecolor": "#2a3f5f"
            },
            "type": "carpet"
           }
          ],
          "choropleth": [
           {
            "colorbar": {
             "outlinewidth": 0,
             "ticks": ""
            },
            "type": "choropleth"
           }
          ],
          "contour": [
           {
            "colorbar": {
             "outlinewidth": 0,
             "ticks": ""
            },
            "colorscale": [
             [
              0,
              "#0d0887"
             ],
             [
              0.1111111111111111,
              "#46039f"
             ],
             [
              0.2222222222222222,
              "#7201a8"
             ],
             [
              0.3333333333333333,
              "#9c179e"
             ],
             [
              0.4444444444444444,
              "#bd3786"
             ],
             [
              0.5555555555555556,
              "#d8576b"
             ],
             [
              0.6666666666666666,
              "#ed7953"
             ],
             [
              0.7777777777777778,
              "#fb9f3a"
             ],
             [
              0.8888888888888888,
              "#fdca26"
             ],
             [
              1,
              "#f0f921"
             ]
            ],
            "type": "contour"
           }
          ],
          "contourcarpet": [
           {
            "colorbar": {
             "outlinewidth": 0,
             "ticks": ""
            },
            "type": "contourcarpet"
           }
          ],
          "heatmap": [
           {
            "colorbar": {
             "outlinewidth": 0,
             "ticks": ""
            },
            "colorscale": [
             [
              0,
              "#0d0887"
             ],
             [
              0.1111111111111111,
              "#46039f"
             ],
             [
              0.2222222222222222,
              "#7201a8"
             ],
             [
              0.3333333333333333,
              "#9c179e"
             ],
             [
              0.4444444444444444,
              "#bd3786"
             ],
             [
              0.5555555555555556,
              "#d8576b"
             ],
             [
              0.6666666666666666,
              "#ed7953"
             ],
             [
              0.7777777777777778,
              "#fb9f3a"
             ],
             [
              0.8888888888888888,
              "#fdca26"
             ],
             [
              1,
              "#f0f921"
             ]
            ],
            "type": "heatmap"
           }
          ],
          "heatmapgl": [
           {
            "colorbar": {
             "outlinewidth": 0,
             "ticks": ""
            },
            "colorscale": [
             [
              0,
              "#0d0887"
             ],
             [
              0.1111111111111111,
              "#46039f"
             ],
             [
              0.2222222222222222,
              "#7201a8"
             ],
             [
              0.3333333333333333,
              "#9c179e"
             ],
             [
              0.4444444444444444,
              "#bd3786"
             ],
             [
              0.5555555555555556,
              "#d8576b"
             ],
             [
              0.6666666666666666,
              "#ed7953"
             ],
             [
              0.7777777777777778,
              "#fb9f3a"
             ],
             [
              0.8888888888888888,
              "#fdca26"
             ],
             [
              1,
              "#f0f921"
             ]
            ],
            "type": "heatmapgl"
           }
          ],
          "histogram": [
           {
            "marker": {
             "pattern": {
              "fillmode": "overlay",
              "size": 10,
              "solidity": 0.2
             }
            },
            "type": "histogram"
           }
          ],
          "histogram2d": [
           {
            "colorbar": {
             "outlinewidth": 0,
             "ticks": ""
            },
            "colorscale": [
             [
              0,
              "#0d0887"
             ],
             [
              0.1111111111111111,
              "#46039f"
             ],
             [
              0.2222222222222222,
              "#7201a8"
             ],
             [
              0.3333333333333333,
              "#9c179e"
             ],
             [
              0.4444444444444444,
              "#bd3786"
             ],
             [
              0.5555555555555556,
              "#d8576b"
             ],
             [
              0.6666666666666666,
              "#ed7953"
             ],
             [
              0.7777777777777778,
              "#fb9f3a"
             ],
             [
              0.8888888888888888,
              "#fdca26"
             ],
             [
              1,
              "#f0f921"
             ]
            ],
            "type": "histogram2d"
           }
          ],
          "histogram2dcontour": [
           {
            "colorbar": {
             "outlinewidth": 0,
             "ticks": ""
            },
            "colorscale": [
             [
              0,
              "#0d0887"
             ],
             [
              0.1111111111111111,
              "#46039f"
             ],
             [
              0.2222222222222222,
              "#7201a8"
             ],
             [
              0.3333333333333333,
              "#9c179e"
             ],
             [
              0.4444444444444444,
              "#bd3786"
             ],
             [
              0.5555555555555556,
              "#d8576b"
             ],
             [
              0.6666666666666666,
              "#ed7953"
             ],
             [
              0.7777777777777778,
              "#fb9f3a"
             ],
             [
              0.8888888888888888,
              "#fdca26"
             ],
             [
              1,
              "#f0f921"
             ]
            ],
            "type": "histogram2dcontour"
           }
          ],
          "mesh3d": [
           {
            "colorbar": {
             "outlinewidth": 0,
             "ticks": ""
            },
            "type": "mesh3d"
           }
          ],
          "parcoords": [
           {
            "line": {
             "colorbar": {
              "outlinewidth": 0,
              "ticks": ""
             }
            },
            "type": "parcoords"
           }
          ],
          "pie": [
           {
            "automargin": true,
            "type": "pie"
           }
          ],
          "scatter": [
           {
            "fillpattern": {
             "fillmode": "overlay",
             "size": 10,
             "solidity": 0.2
            },
            "type": "scatter"
           }
          ],
          "scatter3d": [
           {
            "line": {
             "colorbar": {
              "outlinewidth": 0,
              "ticks": ""
             }
            },
            "marker": {
             "colorbar": {
              "outlinewidth": 0,
              "ticks": ""
             }
            },
            "type": "scatter3d"
           }
          ],
          "scattercarpet": [
           {
            "marker": {
             "colorbar": {
              "outlinewidth": 0,
              "ticks": ""
             }
            },
            "type": "scattercarpet"
           }
          ],
          "scattergeo": [
           {
            "marker": {
             "colorbar": {
              "outlinewidth": 0,
              "ticks": ""
             }
            },
            "type": "scattergeo"
           }
          ],
          "scattergl": [
           {
            "marker": {
             "colorbar": {
              "outlinewidth": 0,
              "ticks": ""
             }
            },
            "type": "scattergl"
           }
          ],
          "scattermapbox": [
           {
            "marker": {
             "colorbar": {
              "outlinewidth": 0,
              "ticks": ""
             }
            },
            "type": "scattermapbox"
           }
          ],
          "scatterpolar": [
           {
            "marker": {
             "colorbar": {
              "outlinewidth": 0,
              "ticks": ""
             }
            },
            "type": "scatterpolar"
           }
          ],
          "scatterpolargl": [
           {
            "marker": {
             "colorbar": {
              "outlinewidth": 0,
              "ticks": ""
             }
            },
            "type": "scatterpolargl"
           }
          ],
          "scatterternary": [
           {
            "marker": {
             "colorbar": {
              "outlinewidth": 0,
              "ticks": ""
             }
            },
            "type": "scatterternary"
           }
          ],
          "surface": [
           {
            "colorbar": {
             "outlinewidth": 0,
             "ticks": ""
            },
            "colorscale": [
             [
              0,
              "#0d0887"
             ],
             [
              0.1111111111111111,
              "#46039f"
             ],
             [
              0.2222222222222222,
              "#7201a8"
             ],
             [
              0.3333333333333333,
              "#9c179e"
             ],
             [
              0.4444444444444444,
              "#bd3786"
             ],
             [
              0.5555555555555556,
              "#d8576b"
             ],
             [
              0.6666666666666666,
              "#ed7953"
             ],
             [
              0.7777777777777778,
              "#fb9f3a"
             ],
             [
              0.8888888888888888,
              "#fdca26"
             ],
             [
              1,
              "#f0f921"
             ]
            ],
            "type": "surface"
           }
          ],
          "table": [
           {
            "cells": {
             "fill": {
              "color": "#EBF0F8"
             },
             "line": {
              "color": "white"
             }
            },
            "header": {
             "fill": {
              "color": "#C8D4E3"
             },
             "line": {
              "color": "white"
             }
            },
            "type": "table"
           }
          ]
         },
         "layout": {
          "annotationdefaults": {
           "arrowcolor": "#2a3f5f",
           "arrowhead": 0,
           "arrowwidth": 1
          },
          "autotypenumbers": "strict",
          "coloraxis": {
           "colorbar": {
            "outlinewidth": 0,
            "ticks": ""
           }
          },
          "colorscale": {
           "diverging": [
            [
             0,
             "#8e0152"
            ],
            [
             0.1,
             "#c51b7d"
            ],
            [
             0.2,
             "#de77ae"
            ],
            [
             0.3,
             "#f1b6da"
            ],
            [
             0.4,
             "#fde0ef"
            ],
            [
             0.5,
             "#f7f7f7"
            ],
            [
             0.6,
             "#e6f5d0"
            ],
            [
             0.7,
             "#b8e186"
            ],
            [
             0.8,
             "#7fbc41"
            ],
            [
             0.9,
             "#4d9221"
            ],
            [
             1,
             "#276419"
            ]
           ],
           "sequential": [
            [
             0,
             "#0d0887"
            ],
            [
             0.1111111111111111,
             "#46039f"
            ],
            [
             0.2222222222222222,
             "#7201a8"
            ],
            [
             0.3333333333333333,
             "#9c179e"
            ],
            [
             0.4444444444444444,
             "#bd3786"
            ],
            [
             0.5555555555555556,
             "#d8576b"
            ],
            [
             0.6666666666666666,
             "#ed7953"
            ],
            [
             0.7777777777777778,
             "#fb9f3a"
            ],
            [
             0.8888888888888888,
             "#fdca26"
            ],
            [
             1,
             "#f0f921"
            ]
           ],
           "sequentialminus": [
            [
             0,
             "#0d0887"
            ],
            [
             0.1111111111111111,
             "#46039f"
            ],
            [
             0.2222222222222222,
             "#7201a8"
            ],
            [
             0.3333333333333333,
             "#9c179e"
            ],
            [
             0.4444444444444444,
             "#bd3786"
            ],
            [
             0.5555555555555556,
             "#d8576b"
            ],
            [
             0.6666666666666666,
             "#ed7953"
            ],
            [
             0.7777777777777778,
             "#fb9f3a"
            ],
            [
             0.8888888888888888,
             "#fdca26"
            ],
            [
             1,
             "#f0f921"
            ]
           ]
          },
          "colorway": [
           "#636efa",
           "#EF553B",
           "#00cc96",
           "#ab63fa",
           "#FFA15A",
           "#19d3f3",
           "#FF6692",
           "#B6E880",
           "#FF97FF",
           "#FECB52"
          ],
          "font": {
           "color": "#2a3f5f"
          },
          "geo": {
           "bgcolor": "white",
           "lakecolor": "white",
           "landcolor": "#E5ECF6",
           "showlakes": true,
           "showland": true,
           "subunitcolor": "white"
          },
          "hoverlabel": {
           "align": "left"
          },
          "hovermode": "closest",
          "mapbox": {
           "style": "light"
          },
          "paper_bgcolor": "white",
          "plot_bgcolor": "#E5ECF6",
          "polar": {
           "angularaxis": {
            "gridcolor": "white",
            "linecolor": "white",
            "ticks": ""
           },
           "bgcolor": "#E5ECF6",
           "radialaxis": {
            "gridcolor": "white",
            "linecolor": "white",
            "ticks": ""
           }
          },
          "scene": {
           "xaxis": {
            "backgroundcolor": "#E5ECF6",
            "gridcolor": "white",
            "gridwidth": 2,
            "linecolor": "white",
            "showbackground": true,
            "ticks": "",
            "zerolinecolor": "white"
           },
           "yaxis": {
            "backgroundcolor": "#E5ECF6",
            "gridcolor": "white",
            "gridwidth": 2,
            "linecolor": "white",
            "showbackground": true,
            "ticks": "",
            "zerolinecolor": "white"
           },
           "zaxis": {
            "backgroundcolor": "#E5ECF6",
            "gridcolor": "white",
            "gridwidth": 2,
            "linecolor": "white",
            "showbackground": true,
            "ticks": "",
            "zerolinecolor": "white"
           }
          },
          "shapedefaults": {
           "line": {
            "color": "#2a3f5f"
           }
          },
          "ternary": {
           "aaxis": {
            "gridcolor": "white",
            "linecolor": "white",
            "ticks": ""
           },
           "baxis": {
            "gridcolor": "white",
            "linecolor": "white",
            "ticks": ""
           },
           "bgcolor": "#E5ECF6",
           "caxis": {
            "gridcolor": "white",
            "linecolor": "white",
            "ticks": ""
           }
          },
          "title": {
           "x": 0.05
          },
          "xaxis": {
           "automargin": true,
           "gridcolor": "white",
           "linecolor": "white",
           "ticks": "",
           "title": {
            "standoff": 15
           },
           "zerolinecolor": "white",
           "zerolinewidth": 2
          },
          "yaxis": {
           "automargin": true,
           "gridcolor": "white",
           "linecolor": "white",
           "ticks": "",
           "title": {
            "standoff": 15
           },
           "zerolinecolor": "white",
           "zerolinewidth": 2
          }
         }
        },
        "title": {
         "text": "<b>Ratio of Tweet Location</b>",
         "x": 0.5
        }
       }
      }
     },
     "metadata": {},
     "output_type": "display_data"
    },
    {
     "data": {
      "text/plain": [
       "<seaborn.axisgrid.FacetGrid at 0x7ff1e0e4f820>"
      ]
     },
     "execution_count": 11,
     "metadata": {},
     "output_type": "execute_result"
    },
    {
     "data": {
      "image/png": "[encoded data removed]",
      "text/plain": [
       "<Figure size 576x576 with 1 Axes>"
      ]
     },
     "metadata": {
      "needs_background": "light"
     },
     "output_type": "display_data"
    }
   ],
   "source": [
    "import plotly.graph_objects as go\n",
    "loc_analysis = pd.DataFrame(df['Location'].value_counts().sort_values(ascending=False))\n",
    "loc_analysis = loc_analysis.rename(columns={'Location':'count'})\n",
    "\n",
    "data = {\n",
    "   \"values\": loc_analysis['count'][:15],\n",
    "   \"labels\": loc_analysis.index[:15],\n",
    "   \"domain\": {\"column\": 0},\n",
    "   \"name\": \"Location Name\",\n",
    "   \"hoverinfo\":\"label+percent+name\",\n",
    "   \"hole\": .4,\n",
    "   \"type\": \"pie\"\n",
    "}\n",
    "layout = go.Layout(title=\"<b>Ratio of Tweet Location</b>\", legend=dict(x=0.1, y=1.1, orientation=\"h\"))\n",
    "\n",
    "data = [data]\n",
    "fig = go.Figure(data = data, layout = layout)\n",
    "fig.update_layout(title_x=0.5)\n",
    "fig.show()\n",
    "sns.catplot(\"TweetAt\", data=df, kind=\"count\", height=8)"
   ]
  },
  {
   "cell_type": "markdown",
   "id": "6649c819",
   "metadata": {},
   "source": [
    "### Top 10 locations of tweet"
   ]
  },
  {
   "cell_type": "code",
   "execution_count": 12,
   "id": "2c197037",
   "metadata": {},
   "outputs": [
    {
     "data": {
      "text/html": [
       "<div>\n",
       "<style scoped>\n",
       "    .dataframe tbody tr th:only-of-type {\n",
       "        vertical-align: middle;\n",
       "    }\n",
       "\n",
       "    .dataframe tbody tr th {\n",
       "        vertical-align: top;\n",
       "    }\n",
       "\n",
       "    .dataframe thead th {\n",
       "        text-align: right;\n",
       "    }\n",
       "</style>\n",
       "<table border=\"1\" class=\"dataframe\">\n",
       "  <thead>\n",
       "    <tr style=\"text-align: right;\">\n",
       "      <th></th>\n",
       "      <th>Location</th>\n",
       "      <th>Location_Count</th>\n",
       "    </tr>\n",
       "  </thead>\n",
       "  <tbody>\n",
       "    <tr>\n",
       "      <th>0</th>\n",
       "      <td>London</td>\n",
       "      <td>540</td>\n",
       "    </tr>\n",
       "    <tr>\n",
       "      <th>1</th>\n",
       "      <td>United States</td>\n",
       "      <td>528</td>\n",
       "    </tr>\n",
       "    <tr>\n",
       "      <th>2</th>\n",
       "      <td>London, England</td>\n",
       "      <td>520</td>\n",
       "    </tr>\n",
       "    <tr>\n",
       "      <th>3</th>\n",
       "      <td>New York, NY</td>\n",
       "      <td>395</td>\n",
       "    </tr>\n",
       "    <tr>\n",
       "      <th>4</th>\n",
       "      <td>Washington, DC</td>\n",
       "      <td>373</td>\n",
       "    </tr>\n",
       "    <tr>\n",
       "      <th>5</th>\n",
       "      <td>United Kingdom</td>\n",
       "      <td>337</td>\n",
       "    </tr>\n",
       "    <tr>\n",
       "      <th>6</th>\n",
       "      <td>Los Angeles, CA</td>\n",
       "      <td>281</td>\n",
       "    </tr>\n",
       "    <tr>\n",
       "      <th>7</th>\n",
       "      <td>India</td>\n",
       "      <td>268</td>\n",
       "    </tr>\n",
       "    <tr>\n",
       "      <th>8</th>\n",
       "      <td>UK</td>\n",
       "      <td>232</td>\n",
       "    </tr>\n",
       "    <tr>\n",
       "      <th>9</th>\n",
       "      <td>Australia</td>\n",
       "      <td>225</td>\n",
       "    </tr>\n",
       "  </tbody>\n",
       "</table>\n",
       "</div>"
      ],
      "text/plain": [
       "          Location  Location_Count\n",
       "0           London             540\n",
       "1    United States             528\n",
       "2  London, England             520\n",
       "3     New York, NY             395\n",
       "4   Washington, DC             373\n",
       "5   United Kingdom             337\n",
       "6  Los Angeles, CA             281\n",
       "7            India             268\n",
       "8               UK             232\n",
       "9        Australia             225"
      ]
     },
     "execution_count": 12,
     "metadata": {},
     "output_type": "execute_result"
    }
   ],
   "source": [
    "Top_Location_Of_tweet= df['Location'].value_counts().head(10)\n",
    "\n",
    "sns.set(rc={'figure.figsize':(12,8)})\n",
    "sns.set_style('white')\n",
    "\n",
    "# Top_Location_Of_tweet.head(10)\n",
    "Top_Location_Of_tweet_df=pd.DataFrame(Top_Location_Of_tweet)\n",
    "Top_Location_Of_tweet_df.reset_index(inplace=True)\n",
    "Top_Location_Of_tweet_df.rename(columns={'index':'Location', 'Location':'Location_Count'}, inplace=True)\n",
    "Top_Location_Of_tweet_df"
   ]
  },
  {
   "cell_type": "code",
   "execution_count": 13,
   "id": "5f64ea62",
   "metadata": {},
   "outputs": [
    {
     "data": {
      "text/plain": [
       "[Text(0, 0, 'London'),\n",
       " Text(1, 0, 'United States'),\n",
       " Text(2, 0, 'London, England'),\n",
       " Text(3, 0, 'New York, NY'),\n",
       " Text(4, 0, 'Washington, DC'),\n",
       " Text(5, 0, 'United Kingdom'),\n",
       " Text(6, 0, 'Los Angeles, CA'),\n",
       " Text(7, 0, 'India'),\n",
       " Text(8, 0, 'UK'),\n",
       " Text(9, 0, 'Australia')]"
      ]
     },
     "execution_count": 13,
     "metadata": {},
     "output_type": "execute_result"
    },
    {
     "data": {
      "image/png": "[encoded data removed]",
      "text/plain": [
       "<Figure size 864x576 with 1 Axes>"
      ]
     },
     "metadata": {},
     "output_type": "display_data"
    }
   ],
   "source": [
    "viz_1=sns.barplot(x=\"Location\", y=\"Location_Count\", data=Top_Location_Of_tweet_df,\n",
    "                 palette='flare')\n",
    "viz_1.set_title('Locations with most of the tweets', size=15)\n",
    "viz_1.set_ylabel('Count of listings')\n",
    "viz_1.set_xlabel('Location Names')\n",
    "viz_1.set_xticklabels(viz_1.get_xticklabels(), rotation=45)"
   ]
  },
  {
   "cell_type": "markdown",
   "id": "f2fd4d8d",
   "metadata": {},
   "source": [
    "### Plot of Sentiment Count"
   ]
  },
  {
   "cell_type": "code",
   "execution_count": 14,
   "id": "d32da269",
   "metadata": {},
   "outputs": [
    {
     "data": {
      "text/plain": [
       "<seaborn.axisgrid.FacetGrid at 0x7ff1cb307910>"
      ]
     },
     "execution_count": 14,
     "metadata": {},
     "output_type": "execute_result"
    },
    {
     "data": {
      "image/png": "[encoded data removed]",
      "text/plain": [
       "<Figure size 468x468 with 1 Axes>"
      ]
     },
     "metadata": {},
     "output_type": "display_data"
    }
   ],
   "source": [
    "sns.set(font_scale=1)\n",
    "sns.catplot(\"Sentiment\", data=df, kind=\"count\", height=6.5, palette='cubehelix')"
   ]
  },
  {
   "cell_type": "code",
   "execution_count": 15,
   "id": "abb3efb9",
   "metadata": {
    "scrolled": true
   },
   "outputs": [
    {
     "data": {
      "text/plain": [
       "20-03-2020    3448\n",
       "19-03-2020    3215\n",
       "25-03-2020    2979\n",
       "18-03-2020    2742\n",
       "21-03-2020    2653\n",
       "22-03-2020    2114\n",
       "23-03-2020    2062\n",
       "17-03-2020    1977\n",
       "08-04-2020    1881\n",
       "07-04-2020    1843\n",
       "06-04-2020    1742\n",
       "24-03-2020    1480\n",
       "09-04-2020    1471\n",
       "13-04-2020    1428\n",
       "26-03-2020    1277\n",
       "05-04-2020    1131\n",
       "10-04-2020    1005\n",
       "02-04-2020     954\n",
       "11-04-2020     909\n",
       "03-04-2020     810\n",
       "12-04-2020     803\n",
       "04-04-2020     767\n",
       "16-03-2020     656\n",
       "01-04-2020     630\n",
       "27-03-2020     345\n",
       "31-03-2020     316\n",
       "14-04-2020     284\n",
       "29-03-2020     125\n",
       "30-03-2020      87\n",
       "28-03-2020      23\n",
       "Name: TweetAt, dtype: int64"
      ]
     },
     "execution_count": 15,
     "metadata": {},
     "output_type": "execute_result"
    }
   ],
   "source": [
    "df.TweetAt.value_counts()"
   ]
  },
  {
   "cell_type": "markdown",
   "id": "a944faab",
   "metadata": {},
   "source": [
    "### WordCloud - Interactive Visualization\n",
    "\n",
    "WordClouds are visual representations of words that give greater prominence to words that appear more frequentlyand also helps us to generate and visualize most common words in the entire dataset and also, most common words in the dataset for negative and positive tweets, respectively\n",
    "<br></br>\n",
    "In order to get an idea of what are the words that contribute the most to different labels, we developed a function to generate word clouds. The function takes in a parameter label which will output the word cloud for that sentiment in our dataset."
   ]
  },
  {
   "cell_type": "code",
   "execution_count": 16,
   "id": "ce0d5439",
   "metadata": {
    "scrolled": false
   },
   "outputs": [],
   "source": [
    "def wordCloud(sentiment):\n",
    "    \"\"\"\n",
    "    Visualize the most common words contributing to the label.\n",
    "    \"\"\"\n",
    "    normal_words = []\n",
    "    normal_words = ' '.join([text for text in df['Tweet'][df['Sentiment'] == sentiment]])\n",
    "    wordcloud = WordCloud(width=800, height=500, random_state=21, \n",
    "                          max_font_size=120, background_color='white').generate(normal_words)\n",
    "    plt.figure(figsize=(15, 10))\n",
    "    plt.imshow(wordcloud.recolor(colormap=\"gist_earth\"), interpolation=\"bilinear\")\n",
    "    plt.title(f\"Most common words assosiated with {sentiment} tweet\", size=15)\n",
    "    plt.axis('off')\n",
    "    plt.show()"
   ]
  },
  {
   "cell_type": "code",
   "execution_count": 17,
   "id": "d609447b",
   "metadata": {},
   "outputs": [
    {
     "name": "stdout",
     "output_type": "stream",
     "text": [
      "Sorry, class label not present in dataset. Please choose from the list provided above.\n"
     ]
    }
   ],
   "source": [
    "# Interactive wordcloud visualization\n",
    "# Enter the class label name from the list: Extremely Positive, Positive, Neutral, Negative, Extremely Negative\n",
    "sentiment_list = ['Extremely Positive', 'Positive', 'Neutral', 'Negative', 'Extremely Negative']\n",
    "sentiment = input(\n",
    "    'Choose a class to visualize the most common words contributing to the sentiment: ')\n",
    "if sentiment.capitalize() in sentiment_list:\n",
    "    wordCloud(sentiment.capitalize())\n",
    "else:\n",
    "    print(\"Sorry, class label not present in dataset. Please choose from the list provided above.\")"
   ]
  },
  {
   "cell_type": "markdown",
   "id": "39b84dce",
   "metadata": {},
   "source": [
    "## Data Preprocessing"
   ]
  },
  {
   "cell_type": "markdown",
   "id": "cf76866f",
   "metadata": {},
   "source": [
    "### Removal of @username from the tweets"
   ]
  },
  {
   "cell_type": "code",
   "execution_count": 18,
   "id": "e44dd762",
   "metadata": {},
   "outputs": [],
   "source": [
    "#function for removing @username\n",
    "def remove_pattern(input_txt, pattern):\n",
    "    r = re.findall(pattern, input_txt)\n",
    "    for i in r:\n",
    "        input_txt = re.sub(i,'',input_txt)\n",
    "    return input_txt\n",
    "\n",
    "# create new column of tweet with removed @username\n",
    "df['Tweet'] = np.vectorize(remove_pattern)(df['OriginalTweet'], '@[\\w]*')"
   ]
  },
  {
   "cell_type": "code",
   "execution_count": 19,
   "id": "00876533",
   "metadata": {},
   "outputs": [
    {
     "data": {
      "text/html": [
       "<div>\n",
       "<style scoped>\n",
       "    .dataframe tbody tr th:only-of-type {\n",
       "        vertical-align: middle;\n",
       "    }\n",
       "\n",
       "    .dataframe tbody tr th {\n",
       "        vertical-align: top;\n",
       "    }\n",
       "\n",
       "    .dataframe thead th {\n",
       "        text-align: right;\n",
       "    }\n",
       "</style>\n",
       "<table border=\"1\" class=\"dataframe\">\n",
       "  <thead>\n",
       "    <tr style=\"text-align: right;\">\n",
       "      <th></th>\n",
       "      <th>UserName</th>\n",
       "      <th>ScreenName</th>\n",
       "      <th>Location</th>\n",
       "      <th>TweetAt</th>\n",
       "      <th>OriginalTweet</th>\n",
       "      <th>Sentiment</th>\n",
       "      <th>Tweet</th>\n",
       "    </tr>\n",
       "  </thead>\n",
       "  <tbody>\n",
       "    <tr>\n",
       "      <th>0</th>\n",
       "      <td>3799</td>\n",
       "      <td>48751</td>\n",
       "      <td>London</td>\n",
       "      <td>16-03-2020</td>\n",
       "      <td>@MeNyrbie @Phil_Gahan @Chrisitv https://t.co/iFz9FAn2Pa and https://t.co/xX6ghGFzCC and https://t.co/I2NlzdxNo8</td>\n",
       "      <td>Neutral</td>\n",
       "      <td>https://t.co/iFz9FAn2Pa and https://t.co/xX6ghGFzCC and https://t.co/I2NlzdxNo8</td>\n",
       "    </tr>\n",
       "    <tr>\n",
       "      <th>1</th>\n",
       "      <td>3800</td>\n",
       "      <td>48752</td>\n",
       "      <td>UK</td>\n",
       "      <td>16-03-2020</td>\n",
       "      <td>advice Talk to your neighbours family to exchange phone numbers create contact list with phone numbers of neighbours schools employer chemist GP set up online shopping accounts if poss adequate su...</td>\n",
       "      <td>Positive</td>\n",
       "      <td>advice Talk to your neighbours family to exchange phone numbers create contact list with phone numbers of neighbours schools employer chemist GP set up online shopping accounts if poss adequate su...</td>\n",
       "    </tr>\n",
       "    <tr>\n",
       "      <th>2</th>\n",
       "      <td>3801</td>\n",
       "      <td>48753</td>\n",
       "      <td>Vagabonds</td>\n",
       "      <td>16-03-2020</td>\n",
       "      <td>Coronavirus Australia: Woolworths to give elderly, disabled dedicated shopping hours amid COVID-19 outbreak https://t.co/bInCA9Vp8P</td>\n",
       "      <td>Positive</td>\n",
       "      <td>Coronavirus Australia: Woolworths to give elderly, disabled dedicated shopping hours amid COVID-19 outbreak https://t.co/bInCA9Vp8P</td>\n",
       "    </tr>\n",
       "  </tbody>\n",
       "</table>\n",
       "</div>"
      ],
      "text/plain": [
       "   UserName  ScreenName   Location     TweetAt  \\\n",
       "0      3799       48751     London  16-03-2020   \n",
       "1      3800       48752         UK  16-03-2020   \n",
       "2      3801       48753  Vagabonds  16-03-2020   \n",
       "\n",
       "                                                                                                                                                                                             OriginalTweet  \\\n",
       "0                                                                                          @MeNyrbie @Phil_Gahan @Chrisitv https://t.co/iFz9FAn2Pa and https://t.co/xX6ghGFzCC and https://t.co/I2NlzdxNo8   \n",
       "1  advice Talk to your neighbours family to exchange phone numbers create contact list with phone numbers of neighbours schools employer chemist GP set up online shopping accounts if poss adequate su...   \n",
       "2                                                                      Coronavirus Australia: Woolworths to give elderly, disabled dedicated shopping hours amid COVID-19 outbreak https://t.co/bInCA9Vp8P   \n",
       "\n",
       "  Sentiment  \\\n",
       "0   Neutral   \n",
       "1  Positive   \n",
       "2  Positive   \n",
       "\n",
       "                                                                                                                                                                                                     Tweet  \n",
       "0                                                                                                                          https://t.co/iFz9FAn2Pa and https://t.co/xX6ghGFzCC and https://t.co/I2NlzdxNo8  \n",
       "1  advice Talk to your neighbours family to exchange phone numbers create contact list with phone numbers of neighbours schools employer chemist GP set up online shopping accounts if poss adequate su...  \n",
       "2                                                                      Coronavirus Australia: Woolworths to give elderly, disabled dedicated shopping hours amid COVID-19 outbreak https://t.co/bInCA9Vp8P  "
      ]
     },
     "execution_count": 19,
     "metadata": {},
     "output_type": "execute_result"
    }
   ],
   "source": [
    "df.head(3)"
   ]
  },
  {
   "cell_type": "markdown",
   "id": "2aa8e0d9",
   "metadata": {},
   "source": [
    "### Removal of URL from the tweets"
   ]
  },
  {
   "cell_type": "code",
   "execution_count": 20,
   "id": "8a109663",
   "metadata": {},
   "outputs": [],
   "source": [
    "import re\n",
    "df['Tweet'] = df['Tweet'].apply(lambda x: re.split('https:\\/\\/.*', str(x))[0])"
   ]
  },
  {
   "cell_type": "code",
   "execution_count": 21,
   "id": "1303647c",
   "metadata": {},
   "outputs": [
    {
     "data": {
      "text/html": [
       "<div>\n",
       "<style scoped>\n",
       "    .dataframe tbody tr th:only-of-type {\n",
       "        vertical-align: middle;\n",
       "    }\n",
       "\n",
       "    .dataframe tbody tr th {\n",
       "        vertical-align: top;\n",
       "    }\n",
       "\n",
       "    .dataframe thead th {\n",
       "        text-align: right;\n",
       "    }\n",
       "</style>\n",
       "<table border=\"1\" class=\"dataframe\">\n",
       "  <thead>\n",
       "    <tr style=\"text-align: right;\">\n",
       "      <th></th>\n",
       "      <th>UserName</th>\n",
       "      <th>ScreenName</th>\n",
       "      <th>Location</th>\n",
       "      <th>TweetAt</th>\n",
       "      <th>OriginalTweet</th>\n",
       "      <th>Sentiment</th>\n",
       "      <th>Tweet</th>\n",
       "    </tr>\n",
       "  </thead>\n",
       "  <tbody>\n",
       "    <tr>\n",
       "      <th>0</th>\n",
       "      <td>3799</td>\n",
       "      <td>48751</td>\n",
       "      <td>London</td>\n",
       "      <td>16-03-2020</td>\n",
       "      <td>@MeNyrbie @Phil_Gahan @Chrisitv https://t.co/iFz9FAn2Pa and https://t.co/xX6ghGFzCC and https://t.co/I2NlzdxNo8</td>\n",
       "      <td>Neutral</td>\n",
       "      <td></td>\n",
       "    </tr>\n",
       "    <tr>\n",
       "      <th>1</th>\n",
       "      <td>3800</td>\n",
       "      <td>48752</td>\n",
       "      <td>UK</td>\n",
       "      <td>16-03-2020</td>\n",
       "      <td>advice Talk to your neighbours family to exchange phone numbers create contact list with phone numbers of neighbours schools employer chemist GP set up online shopping accounts if poss adequate su...</td>\n",
       "      <td>Positive</td>\n",
       "      <td>advice Talk to your neighbours family to exchange phone numbers create contact list with phone numbers of neighbours schools employer chemist GP set up online shopping accounts if poss adequate su...</td>\n",
       "    </tr>\n",
       "    <tr>\n",
       "      <th>2</th>\n",
       "      <td>3801</td>\n",
       "      <td>48753</td>\n",
       "      <td>Vagabonds</td>\n",
       "      <td>16-03-2020</td>\n",
       "      <td>Coronavirus Australia: Woolworths to give elderly, disabled dedicated shopping hours amid COVID-19 outbreak https://t.co/bInCA9Vp8P</td>\n",
       "      <td>Positive</td>\n",
       "      <td>Coronavirus Australia: Woolworths to give elderly, disabled dedicated shopping hours amid COVID-19 outbreak</td>\n",
       "    </tr>\n",
       "  </tbody>\n",
       "</table>\n",
       "</div>"
      ],
      "text/plain": [
       "   UserName  ScreenName   Location     TweetAt  \\\n",
       "0      3799       48751     London  16-03-2020   \n",
       "1      3800       48752         UK  16-03-2020   \n",
       "2      3801       48753  Vagabonds  16-03-2020   \n",
       "\n",
       "                                                                                                                                                                                             OriginalTweet  \\\n",
       "0                                                                                          @MeNyrbie @Phil_Gahan @Chrisitv https://t.co/iFz9FAn2Pa and https://t.co/xX6ghGFzCC and https://t.co/I2NlzdxNo8   \n",
       "1  advice Talk to your neighbours family to exchange phone numbers create contact list with phone numbers of neighbours schools employer chemist GP set up online shopping accounts if poss adequate su...   \n",
       "2                                                                      Coronavirus Australia: Woolworths to give elderly, disabled dedicated shopping hours amid COVID-19 outbreak https://t.co/bInCA9Vp8P   \n",
       "\n",
       "  Sentiment  \\\n",
       "0   Neutral   \n",
       "1  Positive   \n",
       "2  Positive   \n",
       "\n",
       "                                                                                                                                                                                                     Tweet  \n",
       "0                                                                                                                                                                                                           \n",
       "1  advice Talk to your neighbours family to exchange phone numbers create contact list with phone numbers of neighbours schools employer chemist GP set up online shopping accounts if poss adequate su...  \n",
       "2                                                                                             Coronavirus Australia: Woolworths to give elderly, disabled dedicated shopping hours amid COVID-19 outbreak   "
      ]
     },
     "execution_count": 21,
     "metadata": {},
     "output_type": "execute_result"
    }
   ],
   "source": [
    "df.head(3)"
   ]
  },
  {
   "cell_type": "markdown",
   "id": "71579cd9",
   "metadata": {},
   "source": [
    "### Removal of punctuations, numbers and other special characters"
   ]
  },
  {
   "cell_type": "code",
   "execution_count": 22,
   "id": "4cec6c55",
   "metadata": {},
   "outputs": [],
   "source": [
    "# removing special characters, numbers, punctuations\n",
    "df['Tweet'] = df['Tweet'].str.replace('[^a-zA-Z#]+',' ')"
   ]
  },
  {
   "cell_type": "code",
   "execution_count": 23,
   "id": "b847fe4b",
   "metadata": {},
   "outputs": [
    {
     "data": {
      "text/html": [
       "<div>\n",
       "<style scoped>\n",
       "    .dataframe tbody tr th:only-of-type {\n",
       "        vertical-align: middle;\n",
       "    }\n",
       "\n",
       "    .dataframe tbody tr th {\n",
       "        vertical-align: top;\n",
       "    }\n",
       "\n",
       "    .dataframe thead th {\n",
       "        text-align: right;\n",
       "    }\n",
       "</style>\n",
       "<table border=\"1\" class=\"dataframe\">\n",
       "  <thead>\n",
       "    <tr style=\"text-align: right;\">\n",
       "      <th></th>\n",
       "      <th>UserName</th>\n",
       "      <th>ScreenName</th>\n",
       "      <th>Location</th>\n",
       "      <th>TweetAt</th>\n",
       "      <th>OriginalTweet</th>\n",
       "      <th>Sentiment</th>\n",
       "      <th>Tweet</th>\n",
       "    </tr>\n",
       "  </thead>\n",
       "  <tbody>\n",
       "    <tr>\n",
       "      <th>0</th>\n",
       "      <td>3799</td>\n",
       "      <td>48751</td>\n",
       "      <td>London</td>\n",
       "      <td>16-03-2020</td>\n",
       "      <td>@MeNyrbie @Phil_Gahan @Chrisitv https://t.co/iFz9FAn2Pa and https://t.co/xX6ghGFzCC and https://t.co/I2NlzdxNo8</td>\n",
       "      <td>Neutral</td>\n",
       "      <td></td>\n",
       "    </tr>\n",
       "    <tr>\n",
       "      <th>1</th>\n",
       "      <td>3800</td>\n",
       "      <td>48752</td>\n",
       "      <td>UK</td>\n",
       "      <td>16-03-2020</td>\n",
       "      <td>advice Talk to your neighbours family to exchange phone numbers create contact list with phone numbers of neighbours schools employer chemist GP set up online shopping accounts if poss adequate su...</td>\n",
       "      <td>Positive</td>\n",
       "      <td>advice Talk to your neighbours family to exchange phone numbers create contact list with phone numbers of neighbours schools employer chemist GP set up online shopping accounts if poss adequate su...</td>\n",
       "    </tr>\n",
       "    <tr>\n",
       "      <th>2</th>\n",
       "      <td>3801</td>\n",
       "      <td>48753</td>\n",
       "      <td>Vagabonds</td>\n",
       "      <td>16-03-2020</td>\n",
       "      <td>Coronavirus Australia: Woolworths to give elderly, disabled dedicated shopping hours amid COVID-19 outbreak https://t.co/bInCA9Vp8P</td>\n",
       "      <td>Positive</td>\n",
       "      <td>Coronavirus Australia Woolworths to give elderly disabled dedicated shopping hours amid COVID outbreak</td>\n",
       "    </tr>\n",
       "  </tbody>\n",
       "</table>\n",
       "</div>"
      ],
      "text/plain": [
       "   UserName  ScreenName   Location     TweetAt  \\\n",
       "0      3799       48751     London  16-03-2020   \n",
       "1      3800       48752         UK  16-03-2020   \n",
       "2      3801       48753  Vagabonds  16-03-2020   \n",
       "\n",
       "                                                                                                                                                                                             OriginalTweet  \\\n",
       "0                                                                                          @MeNyrbie @Phil_Gahan @Chrisitv https://t.co/iFz9FAn2Pa and https://t.co/xX6ghGFzCC and https://t.co/I2NlzdxNo8   \n",
       "1  advice Talk to your neighbours family to exchange phone numbers create contact list with phone numbers of neighbours schools employer chemist GP set up online shopping accounts if poss adequate su...   \n",
       "2                                                                      Coronavirus Australia: Woolworths to give elderly, disabled dedicated shopping hours amid COVID-19 outbreak https://t.co/bInCA9Vp8P   \n",
       "\n",
       "  Sentiment  \\\n",
       "0   Neutral   \n",
       "1  Positive   \n",
       "2  Positive   \n",
       "\n",
       "                                                                                                                                                                                                     Tweet  \n",
       "0                                                                                                                                                                                                           \n",
       "1  advice Talk to your neighbours family to exchange phone numbers create contact list with phone numbers of neighbours schools employer chemist GP set up online shopping accounts if poss adequate su...  \n",
       "2                                                                                                  Coronavirus Australia Woolworths to give elderly disabled dedicated shopping hours amid COVID outbreak   "
      ]
     },
     "execution_count": 23,
     "metadata": {},
     "output_type": "execute_result"
    }
   ],
   "source": [
    "df.head(3)"
   ]
  },
  {
   "cell_type": "markdown",
   "id": "10217e17",
   "metadata": {},
   "source": [
    "### Removal of stop words from the tweets"
   ]
  },
  {
   "cell_type": "code",
   "execution_count": 24,
   "id": "7fe059fc",
   "metadata": {},
   "outputs": [],
   "source": [
    "# removing stop words based on length\n",
    "df['Tweet'] = df['Tweet'].apply(lambda x: ' '.join([w for w in x.split() if len(w) > 2]))"
   ]
  },
  {
   "cell_type": "code",
   "execution_count": 25,
   "id": "dd2a9d6c",
   "metadata": {},
   "outputs": [
    {
     "data": {
      "text/html": [
       "<div>\n",
       "<style scoped>\n",
       "    .dataframe tbody tr th:only-of-type {\n",
       "        vertical-align: middle;\n",
       "    }\n",
       "\n",
       "    .dataframe tbody tr th {\n",
       "        vertical-align: top;\n",
       "    }\n",
       "\n",
       "    .dataframe thead th {\n",
       "        text-align: right;\n",
       "    }\n",
       "</style>\n",
       "<table border=\"1\" class=\"dataframe\">\n",
       "  <thead>\n",
       "    <tr style=\"text-align: right;\">\n",
       "      <th></th>\n",
       "      <th>UserName</th>\n",
       "      <th>ScreenName</th>\n",
       "      <th>Location</th>\n",
       "      <th>TweetAt</th>\n",
       "      <th>OriginalTweet</th>\n",
       "      <th>Sentiment</th>\n",
       "      <th>Tweet</th>\n",
       "    </tr>\n",
       "  </thead>\n",
       "  <tbody>\n",
       "    <tr>\n",
       "      <th>0</th>\n",
       "      <td>3799</td>\n",
       "      <td>48751</td>\n",
       "      <td>London</td>\n",
       "      <td>16-03-2020</td>\n",
       "      <td>@MeNyrbie @Phil_Gahan @Chrisitv https://t.co/iFz9FAn2Pa and https://t.co/xX6ghGFzCC and https://t.co/I2NlzdxNo8</td>\n",
       "      <td>Neutral</td>\n",
       "      <td></td>\n",
       "    </tr>\n",
       "    <tr>\n",
       "      <th>1</th>\n",
       "      <td>3800</td>\n",
       "      <td>48752</td>\n",
       "      <td>UK</td>\n",
       "      <td>16-03-2020</td>\n",
       "      <td>advice Talk to your neighbours family to exchange phone numbers create contact list with phone numbers of neighbours schools employer chemist GP set up online shopping accounts if poss adequate su...</td>\n",
       "      <td>Positive</td>\n",
       "      <td>advice Talk your neighbours family exchange phone numbers create contact list with phone numbers neighbours schools employer chemist set online shopping accounts poss adequate supplies regular med...</td>\n",
       "    </tr>\n",
       "  </tbody>\n",
       "</table>\n",
       "</div>"
      ],
      "text/plain": [
       "   UserName  ScreenName Location     TweetAt  \\\n",
       "0      3799       48751   London  16-03-2020   \n",
       "1      3800       48752       UK  16-03-2020   \n",
       "\n",
       "                                                                                                                                                                                             OriginalTweet  \\\n",
       "0                                                                                          @MeNyrbie @Phil_Gahan @Chrisitv https://t.co/iFz9FAn2Pa and https://t.co/xX6ghGFzCC and https://t.co/I2NlzdxNo8   \n",
       "1  advice Talk to your neighbours family to exchange phone numbers create contact list with phone numbers of neighbours schools employer chemist GP set up online shopping accounts if poss adequate su...   \n",
       "\n",
       "  Sentiment  \\\n",
       "0   Neutral   \n",
       "1  Positive   \n",
       "\n",
       "                                                                                                                                                                                                     Tweet  \n",
       "0                                                                                                                                                                                                           \n",
       "1  advice Talk your neighbours family exchange phone numbers create contact list with phone numbers neighbours schools employer chemist set online shopping accounts poss adequate supplies regular med...  "
      ]
     },
     "execution_count": 25,
     "metadata": {},
     "output_type": "execute_result"
    }
   ],
   "source": [
    "df.head(2)"
   ]
  },
  {
   "cell_type": "markdown",
   "id": "2b458e01",
   "metadata": {},
   "source": [
    "### Tokenization"
   ]
  },
  {
   "cell_type": "code",
   "execution_count": 26,
   "id": "688d304b",
   "metadata": {},
   "outputs": [],
   "source": [
    "# create new variable tokenized tweet \n",
    "tokenized_tweet = df['Tweet'].apply(lambda x: x.split())\n",
    "# print(tokenized_tweet)"
   ]
  },
  {
   "cell_type": "markdown",
   "id": "724a54ec",
   "metadata": {},
   "source": [
    "### Stemming"
   ]
  },
  {
   "cell_type": "code",
   "execution_count": 27,
   "id": "194ecca7",
   "metadata": {},
   "outputs": [],
   "source": [
    "from nltk.stem.porter import *\n",
    "stemmer = PorterStemmer()\n",
    "\n",
    "# applying stemmer to tokenized_tweet\n",
    "tokenized_tweet = tokenized_tweet.apply(lambda x: [stemmer.stem(i) for i in x])"
   ]
  },
  {
   "cell_type": "code",
   "execution_count": 28,
   "id": "ad1ac868",
   "metadata": {},
   "outputs": [],
   "source": [
    "# combining tokenized words into one sentence\n",
    "for i in range(len(tokenized_tweet)):\n",
    "    tokenized_tweet[i] = ' '.join(tokenized_tweet[i])\n",
    "    \n",
    "# change df['Tweet'] to tokenized_tweet\n",
    "df['Tweet']  = tokenized_tweet"
   ]
  },
  {
   "cell_type": "code",
   "execution_count": 29,
   "id": "56ea6846",
   "metadata": {},
   "outputs": [
    {
     "data": {
      "text/html": [
       "<div>\n",
       "<style scoped>\n",
       "    .dataframe tbody tr th:only-of-type {\n",
       "        vertical-align: middle;\n",
       "    }\n",
       "\n",
       "    .dataframe tbody tr th {\n",
       "        vertical-align: top;\n",
       "    }\n",
       "\n",
       "    .dataframe thead th {\n",
       "        text-align: right;\n",
       "    }\n",
       "</style>\n",
       "<table border=\"1\" class=\"dataframe\">\n",
       "  <thead>\n",
       "    <tr style=\"text-align: right;\">\n",
       "      <th></th>\n",
       "      <th>UserName</th>\n",
       "      <th>ScreenName</th>\n",
       "      <th>Location</th>\n",
       "      <th>TweetAt</th>\n",
       "      <th>OriginalTweet</th>\n",
       "      <th>Sentiment</th>\n",
       "      <th>Tweet</th>\n",
       "    </tr>\n",
       "  </thead>\n",
       "  <tbody>\n",
       "    <tr>\n",
       "      <th>0</th>\n",
       "      <td>3799</td>\n",
       "      <td>48751</td>\n",
       "      <td>London</td>\n",
       "      <td>16-03-2020</td>\n",
       "      <td>@MeNyrbie @Phil_Gahan @Chrisitv https://t.co/iFz9FAn2Pa and https://t.co/xX6ghGFzCC and https://t.co/I2NlzdxNo8</td>\n",
       "      <td>Neutral</td>\n",
       "      <td></td>\n",
       "    </tr>\n",
       "    <tr>\n",
       "      <th>1</th>\n",
       "      <td>3800</td>\n",
       "      <td>48752</td>\n",
       "      <td>UK</td>\n",
       "      <td>16-03-2020</td>\n",
       "      <td>advice Talk to your neighbours family to exchange phone numbers create contact list with phone numbers of neighbours schools employer chemist GP set up online shopping accounts if poss adequate su...</td>\n",
       "      <td>Positive</td>\n",
       "      <td>advic talk your neighbour famili exchang phone number creat contact list with phone number neighbour school employ chemist set onlin shop account poss adequ suppli regular med but not over order</td>\n",
       "    </tr>\n",
       "    <tr>\n",
       "      <th>2</th>\n",
       "      <td>3801</td>\n",
       "      <td>48753</td>\n",
       "      <td>Vagabonds</td>\n",
       "      <td>16-03-2020</td>\n",
       "      <td>Coronavirus Australia: Woolworths to give elderly, disabled dedicated shopping hours amid COVID-19 outbreak https://t.co/bInCA9Vp8P</td>\n",
       "      <td>Positive</td>\n",
       "      <td>coronaviru australia woolworth give elderli disabl dedic shop hour amid covid outbreak</td>\n",
       "    </tr>\n",
       "  </tbody>\n",
       "</table>\n",
       "</div>"
      ],
      "text/plain": [
       "   UserName  ScreenName   Location     TweetAt  \\\n",
       "0      3799       48751     London  16-03-2020   \n",
       "1      3800       48752         UK  16-03-2020   \n",
       "2      3801       48753  Vagabonds  16-03-2020   \n",
       "\n",
       "                                                                                                                                                                                             OriginalTweet  \\\n",
       "0                                                                                          @MeNyrbie @Phil_Gahan @Chrisitv https://t.co/iFz9FAn2Pa and https://t.co/xX6ghGFzCC and https://t.co/I2NlzdxNo8   \n",
       "1  advice Talk to your neighbours family to exchange phone numbers create contact list with phone numbers of neighbours schools employer chemist GP set up online shopping accounts if poss adequate su...   \n",
       "2                                                                      Coronavirus Australia: Woolworths to give elderly, disabled dedicated shopping hours amid COVID-19 outbreak https://t.co/bInCA9Vp8P   \n",
       "\n",
       "  Sentiment  \\\n",
       "0   Neutral   \n",
       "1  Positive   \n",
       "2  Positive   \n",
       "\n",
       "                                                                                                                                                                                                Tweet  \n",
       "0                                                                                                                                                                                                      \n",
       "1  advic talk your neighbour famili exchang phone number creat contact list with phone number neighbour school employ chemist set onlin shop account poss adequ suppli regular med but not over order  \n",
       "2                                                                                                              coronaviru australia woolworth give elderli disabl dedic shop hour amid covid outbreak  "
      ]
     },
     "execution_count": 29,
     "metadata": {},
     "output_type": "execute_result"
    }
   ],
   "source": [
    "df.head(3)"
   ]
  },
  {
   "cell_type": "markdown",
   "id": "b598d3d6",
   "metadata": {},
   "source": [
    "### Extracting Tweet and User Sentiment"
   ]
  },
  {
   "cell_type": "code",
   "execution_count": 30,
   "id": "03d02b41",
   "metadata": {},
   "outputs": [],
   "source": [
    "new_df = df[['Tweet','Sentiment']]"
   ]
  },
  {
   "cell_type": "code",
   "execution_count": 31,
   "id": "340e65f1",
   "metadata": {},
   "outputs": [
    {
     "data": {
      "text/html": [
       "<div>\n",
       "<style scoped>\n",
       "    .dataframe tbody tr th:only-of-type {\n",
       "        vertical-align: middle;\n",
       "    }\n",
       "\n",
       "    .dataframe tbody tr th {\n",
       "        vertical-align: top;\n",
       "    }\n",
       "\n",
       "    .dataframe thead th {\n",
       "        text-align: right;\n",
       "    }\n",
       "</style>\n",
       "<table border=\"1\" class=\"dataframe\">\n",
       "  <thead>\n",
       "    <tr style=\"text-align: right;\">\n",
       "      <th></th>\n",
       "      <th>Tweet</th>\n",
       "      <th>Sentiment</th>\n",
       "    </tr>\n",
       "  </thead>\n",
       "  <tbody>\n",
       "    <tr>\n",
       "      <th>0</th>\n",
       "      <td></td>\n",
       "      <td>Neutral</td>\n",
       "    </tr>\n",
       "    <tr>\n",
       "      <th>1</th>\n",
       "      <td>advic talk your neighbour famili exchang phone number creat contact list with phone number neighbour school employ chemist set onlin shop account poss adequ suppli regular med but not over order</td>\n",
       "      <td>Positive</td>\n",
       "    </tr>\n",
       "    <tr>\n",
       "      <th>2</th>\n",
       "      <td>coronaviru australia woolworth give elderli disabl dedic shop hour amid covid outbreak</td>\n",
       "      <td>Positive</td>\n",
       "    </tr>\n",
       "    <tr>\n",
       "      <th>3</th>\n",
       "      <td>food stock not the onli one which empti pleas don panic there will enough food for everyon you not take more than you need stay calm stay safe #covid franc #covid #covid #coronaviru #confin #confi...</td>\n",
       "      <td>Positive</td>\n",
       "    </tr>\n",
       "    <tr>\n",
       "      <th>4</th>\n",
       "      <td>readi supermarket dure the #covid outbreak not becaus paranoid but becaus food stock litterali empti the #coronaviru seriou thing but pleas don panic caus shortag #coronavirusfr #restezchezv #stay...</td>\n",
       "      <td>Extremely Negative</td>\n",
       "    </tr>\n",
       "  </tbody>\n",
       "</table>\n",
       "</div>"
      ],
      "text/plain": [
       "                                                                                                                                                                                                     Tweet  \\\n",
       "0                                                                                                                                                                                                            \n",
       "1       advic talk your neighbour famili exchang phone number creat contact list with phone number neighbour school employ chemist set onlin shop account poss adequ suppli regular med but not over order   \n",
       "2                                                                                                                   coronaviru australia woolworth give elderli disabl dedic shop hour amid covid outbreak   \n",
       "3  food stock not the onli one which empti pleas don panic there will enough food for everyon you not take more than you need stay calm stay safe #covid franc #covid #covid #coronaviru #confin #confi...   \n",
       "4  readi supermarket dure the #covid outbreak not becaus paranoid but becaus food stock litterali empti the #coronaviru seriou thing but pleas don panic caus shortag #coronavirusfr #restezchezv #stay...   \n",
       "\n",
       "            Sentiment  \n",
       "0             Neutral  \n",
       "1            Positive  \n",
       "2            Positive  \n",
       "3            Positive  \n",
       "4  Extremely Negative  "
      ]
     },
     "execution_count": 31,
     "metadata": {},
     "output_type": "execute_result"
    }
   ],
   "source": [
    "new_df.head()"
   ]
  },
  {
   "cell_type": "code",
   "execution_count": 32,
   "id": "c9c6b677",
   "metadata": {},
   "outputs": [
    {
     "data": {
      "text/plain": [
       "Positive              11422\n",
       "Negative               9917\n",
       "Neutral                7713\n",
       "Extremely Positive     6624\n",
       "Extremely Negative     5481\n",
       "Name: Sentiment, dtype: int64"
      ]
     },
     "execution_count": 32,
     "metadata": {},
     "output_type": "execute_result"
    }
   ],
   "source": [
    "df['Sentiment'].value_counts()"
   ]
  },
  {
   "cell_type": "code",
   "execution_count": 35,
   "id": "be45cca9",
   "metadata": {},
   "outputs": [
    {
     "data": {
      "text/plain": [
       "(41157, 2)"
      ]
     },
     "execution_count": 35,
     "metadata": {},
     "output_type": "execute_result"
    }
   ],
   "source": [
    "new_df.shape"
   ]
  },
  {
   "cell_type": "code",
   "execution_count": 36,
   "id": "8949c9f5",
   "metadata": {},
   "outputs": [
    {
     "data": {
      "text/plain": [
       "Tweet        0\n",
       "Sentiment    0\n",
       "dtype: int64"
      ]
     },
     "execution_count": 36,
     "metadata": {},
     "output_type": "execute_result"
    }
   ],
   "source": [
    "new_df.isnull().sum()"
   ]
  },
  {
   "cell_type": "code",
   "execution_count": 37,
   "id": "14fd23cc",
   "metadata": {},
   "outputs": [
    {
     "data": {
      "text/html": [
       "<div>\n",
       "<style scoped>\n",
       "    .dataframe tbody tr th:only-of-type {\n",
       "        vertical-align: middle;\n",
       "    }\n",
       "\n",
       "    .dataframe tbody tr th {\n",
       "        vertical-align: top;\n",
       "    }\n",
       "\n",
       "    .dataframe thead th {\n",
       "        text-align: right;\n",
       "    }\n",
       "</style>\n",
       "<table border=\"1\" class=\"dataframe\">\n",
       "  <thead>\n",
       "    <tr style=\"text-align: right;\">\n",
       "      <th></th>\n",
       "      <th>Tweet</th>\n",
       "      <th>Sentiment</th>\n",
       "    </tr>\n",
       "  </thead>\n",
       "  <tbody>\n",
       "    <tr>\n",
       "      <th>0</th>\n",
       "      <td></td>\n",
       "      <td>1</td>\n",
       "    </tr>\n",
       "    <tr>\n",
       "      <th>1</th>\n",
       "      <td>advic talk your neighbour famili exchang phone number creat contact list with phone number neighbour school employ chemist set onlin shop account poss adequ suppli regular med but not over order</td>\n",
       "      <td>2</td>\n",
       "    </tr>\n",
       "    <tr>\n",
       "      <th>2</th>\n",
       "      <td>coronaviru australia woolworth give elderli disabl dedic shop hour amid covid outbreak</td>\n",
       "      <td>2</td>\n",
       "    </tr>\n",
       "    <tr>\n",
       "      <th>3</th>\n",
       "      <td>food stock not the onli one which empti pleas don panic there will enough food for everyon you not take more than you need stay calm stay safe #covid franc #covid #covid #coronaviru #confin #confi...</td>\n",
       "      <td>2</td>\n",
       "    </tr>\n",
       "    <tr>\n",
       "      <th>4</th>\n",
       "      <td>readi supermarket dure the #covid outbreak not becaus paranoid but becaus food stock litterali empti the #coronaviru seriou thing but pleas don panic caus shortag #coronavirusfr #restezchezv #stay...</td>\n",
       "      <td>0</td>\n",
       "    </tr>\n",
       "    <tr>\n",
       "      <th>5</th>\n",
       "      <td>news the region first confirm covid case came out sullivan counti last week peopl flock area store purchas clean suppli hand sanit food toilet paper and other good report</td>\n",
       "      <td>2</td>\n",
       "    </tr>\n",
       "    <tr>\n",
       "      <th>6</th>\n",
       "      <td>cashier groceri store wa share hi insight #covid prove hi credibl comment civic class know what talk about</td>\n",
       "      <td>2</td>\n",
       "    </tr>\n",
       "  </tbody>\n",
       "</table>\n",
       "</div>"
      ],
      "text/plain": [
       "                                                                                                                                                                                                     Tweet  \\\n",
       "0                                                                                                                                                                                                            \n",
       "1       advic talk your neighbour famili exchang phone number creat contact list with phone number neighbour school employ chemist set onlin shop account poss adequ suppli regular med but not over order   \n",
       "2                                                                                                                   coronaviru australia woolworth give elderli disabl dedic shop hour amid covid outbreak   \n",
       "3  food stock not the onli one which empti pleas don panic there will enough food for everyon you not take more than you need stay calm stay safe #covid franc #covid #covid #coronaviru #confin #confi...   \n",
       "4  readi supermarket dure the #covid outbreak not becaus paranoid but becaus food stock litterali empti the #coronaviru seriou thing but pleas don panic caus shortag #coronavirusfr #restezchezv #stay...   \n",
       "5                               news the region first confirm covid case came out sullivan counti last week peopl flock area store purchas clean suppli hand sanit food toilet paper and other good report   \n",
       "6                                                                                               cashier groceri store wa share hi insight #covid prove hi credibl comment civic class know what talk about   \n",
       "\n",
       "   Sentiment  \n",
       "0          1  \n",
       "1          2  \n",
       "2          2  \n",
       "3          2  \n",
       "4          0  \n",
       "5          2  \n",
       "6          2  "
      ]
     },
     "execution_count": 37,
     "metadata": {},
     "output_type": "execute_result"
    }
   ],
   "source": [
    "new_df.loc[new_df[\"Sentiment\"] == \"Extremely Negative\", \"Sentiment\"] = \"Negative\"\n",
    "new_df.loc[new_df[\"Sentiment\"] == \"Extremely Positive\", \"Sentiment\"] = \"Positive\"\n",
    "new_df['Sentiment'].replace(['Negative','Neutral','Positive'],\n",
    "                        [0, 1, 2], inplace=True)\n",
    "new_df.head(7)"
   ]
  },
  {
   "cell_type": "markdown",
   "id": "50fbc001",
   "metadata": {},
   "source": [
    "## Modeling Methodology - Machine Learning Approach"
   ]
  },
  {
   "cell_type": "code",
   "execution_count": 38,
   "id": "3f995c24",
   "metadata": {},
   "outputs": [
    {
     "name": "stdout",
     "output_type": "stream",
     "text": [
      "train shape :  (32925, 2)\n",
      "test shape :  (8232, 2)\n"
     ]
    }
   ],
   "source": [
    "# Splitting the dataset into train and test data\n",
    "train, test = train_test_split(new_df, test_size = 0.2, random_state=42, stratify = new_df.Sentiment.values) \n",
    "print(\"train shape : \", train.shape)\n",
    "print(\"test shape : \", test.shape)"
   ]
  },
  {
   "cell_type": "markdown",
   "id": "34ba7697",
   "metadata": {},
   "source": [
    "### Implementing Naive Bayes from Scratch"
   ]
  },
  {
   "cell_type": "code",
   "execution_count": 39,
   "id": "1f4af2b4",
   "metadata": {},
   "outputs": [],
   "source": [
    "class NaiveBayes:\n",
    "  def __init__(self):\n",
    "    \"\"\"\n",
    "    Initializing the class variables\n",
    "    \"\"\"\n",
    "    self.vocab_size = 0\n",
    "    self.vocab_dict = dict()\n",
    "    self.label_dict = dict()\n",
    "    self.label_count_dict = dict()\n",
    "    self.label_prob_dict = dict()\n",
    "\n",
    "  def train(self, examples):\n",
    "    \"\"\"\n",
    "    Trains the classifier based on the given examples\n",
    "    Parameters:\n",
    "      examples - a list of tuples of strings formatted\n",
    "    Return: None\n",
    "    \"\"\"\n",
    "    for example in examples:\n",
    "      label = example[1]\n",
    "      if(label not in self.label_dict):\n",
    "        self.label_dict[label] = dict()\n",
    "      label_word_dict = self.label_dict[label]\n",
    "      words = example[0].split(\" \")\n",
    "      label_count = 0\n",
    "      for word in words:\n",
    "        if(word not in label_word_dict):\n",
    "          label_word_dict[word] = 1\n",
    "        else:\n",
    "          count = label_word_dict[word]\n",
    "          count+=1\n",
    "          label_word_dict[word] = count\n",
    "\n",
    "        if(word not in self.vocab_dict):\n",
    "          self.vocab_dict[word] = 1\n",
    "        else:\n",
    "          count = self.vocab_dict[word]\n",
    "          count+=1\n",
    "          self.vocab_dict[word] = count\n",
    "        label_count += 1\n",
    "      self.label_dict[label] = label_word_dict\n",
    "\n",
    "      if(label not in self.label_prob_dict):\n",
    "        self.label_prob_dict[label] = 1\n",
    "      else:\n",
    "        count = self.label_prob_dict[label]\n",
    "        count+=1\n",
    "        self.label_prob_dict[label] = count\n",
    "\n",
    "      if(label not in self.label_count_dict):\n",
    "        self.label_count_dict[label] = label_count\n",
    "      else:\n",
    "        count = self.label_count_dict[label]\n",
    "        count+=label_count\n",
    "        self.label_count_dict[label] = count\n",
    "    \n",
    "    self.label_prob_dict = self.get_class_probability(self.label_prob_dict)\n",
    "    self.vocab_size = len(self.vocab_dict)\n",
    "  \n",
    "  def get_class_probability(self, label_prob_dict):\n",
    "    \"\"\"\n",
    "    Gets the probability of each class in the dataset\n",
    "    Parameters:\n",
    "      label_prob_dict - A dictionary containing the counts of each label\n",
    "    Return: dict of class probablity\n",
    "    \"\"\"\n",
    "    total_class_count = 0\n",
    "    for key in label_prob_dict.keys():\n",
    "      total_class_count += label_prob_dict[key]\n",
    "    for key in label_prob_dict.keys():\n",
    "      label_prob_dict[key] = label_prob_dict[key] / total_class_count\n",
    "    return label_prob_dict\n",
    "\n",
    "  def score(self, data):\n",
    "    \"\"\"\n",
    "    Score a given piece of text\n",
    "    Parameters:\n",
    "      data - String containing the tweet\n",
    "    Return: dict of class: score mappings\n",
    "    \"\"\"\n",
    "    class_score_dict = dict()\n",
    "    features = self.featurize(data)\n",
    "    for key in self.label_dict.keys():\n",
    "      words = data.split(\" \")\n",
    "      prob = 0\n",
    "      for word in words:\n",
    "          score = self.get_word_probability(key,word,features)\n",
    "          prob = prob+ np.log(score)\n",
    "      prob = prob + np.log(self.label_prob_dict[key])\n",
    "      prob = np.e**prob\n",
    "      class_score_dict[key] = prob\n",
    "    return class_score_dict      \n",
    "\n",
    "  def get_word_probability(self,label,word,features):\n",
    "    \"\"\"\n",
    "    Gets the probability of the word given label\n",
    "    Parameters:\n",
    "      label - A string indicating the label\n",
    "      word - The word for which the probability has to be found\n",
    "      features - A list of tuples which we get from featurize\n",
    "    Returns - float: A number between 0 and 1\n",
    "    \"\"\"\n",
    "    for i,j in features:\n",
    "      if(word == i and j == False):\n",
    "        return 1\n",
    "    if(word in self.label_dict[label]):\n",
    "      return float((self.label_dict[label][word]+1) / (self.label_count_dict[label]+ self.vocab_size))\n",
    "    if(word not in self.label_dict[label] and word in self.vocab_dict):\n",
    "      return float(1 / (self.label_count_dict[label]+ self.vocab_size))\n",
    "\n",
    "  def classify(self, data):\n",
    "    \"\"\"\n",
    "    Label a given piece of text\n",
    "    Parameters:\n",
    "      data - str containing the tweet\n",
    "    Return: string class label\n",
    "    \"\"\"\n",
    "    prob_dict = self.score(data)\n",
    "    max_prob = float(\"-inf\")\n",
    "    selected_class = None\n",
    "    for key in prob_dict.keys():\n",
    "      if(prob_dict[key] > max_prob):\n",
    "        max_prob = prob_dict[key]\n",
    "        selected_class = key\n",
    "    return selected_class\n",
    "  \n",
    "  def featurize(self, data):\n",
    "    \"\"\"\n",
    "    Checks if a word is present in the vocabulary and returns it. \n",
    "    \"\"\"\n",
    "    words = data.split(\" \")\n",
    "    ls = []\n",
    "    for word in words:\n",
    "      if(word in self.vocab_dict):\n",
    "        tup = (word,True)\n",
    "      else:\n",
    "        tup = (word,False)\n",
    "      ls.append(tup)\n",
    "    return ls\n"
   ]
  },
  {
   "cell_type": "markdown",
   "id": "e789fcb3",
   "metadata": {},
   "source": [
    "#### Now that the class is defined, we can use it to train our data and see how it performs. "
   ]
  },
  {
   "cell_type": "code",
   "execution_count": 40,
   "id": "f8579bb9",
   "metadata": {},
   "outputs": [
    {
     "name": "stdout",
     "output_type": "stream",
     "text": [
      "Accuracy is: 0.6766277939747327\n",
      "              precision    recall  f1-score   support\n",
      "\n",
      "           0       0.68      0.74      0.71      3080\n",
      "           1       0.67      0.27      0.38      1543\n",
      "           2       0.67      0.80      0.73      3609\n",
      "\n",
      "    accuracy                           0.68      8232\n",
      "   macro avg       0.67      0.60      0.61      8232\n",
      "weighted avg       0.68      0.68      0.66      8232\n",
      "\n"
     ]
    }
   ],
   "source": [
    "train_list = list(train.itertuples(index=False, name=None))\n",
    "test_list = list(test.itertuples(index=False, name=None))\n",
    "classifier = NaiveBayes()\n",
    "classifier.train(train_list)\n",
    "actual_labels = []\n",
    "predicted_labels = []\n",
    "for tup in test_list:\n",
    "    actual_labels.append(tup[1])\n",
    "    predicted_labels.append(classifier.classify(tup[0]))\n",
    "\n",
    "print(\"Accuracy is:\",accuracy_score(actual_labels,predicted_labels))\n",
    "print(classification_report(actual_labels,predicted_labels))"
   ]
  },
  {
   "cell_type": "markdown",
   "id": "bab51fb8",
   "metadata": {},
   "source": [
    "### Implementing Logistic Regression from scratch"
   ]
  },
  {
   "cell_type": "code",
   "execution_count": 58,
   "id": "c5b42ce2",
   "metadata": {},
   "outputs": [],
   "source": [
    "class LogisticRegression:\n",
    "\n",
    "  def __init__(self):\n",
    "    \"\"\"\n",
    "    Initializes the class variables\n",
    "    \"\"\"\n",
    "    self.weights = None\n",
    "    self.labels = None\n",
    "    self.epochs = 70\n",
    "    self.lr = 0.01\n",
    "\n",
    "  def train(self, X_train, Y_train):\n",
    "    self.labels = np.unique(Y_train)\n",
    "    num_labels = len(set(Y_train))\n",
    "    self.weights = np.zeros((num_labels,X_train.shape[1]))\n",
    "    Y_train = self.transform_y(Y_train)\n",
    "    for i in range(self.epochs):\n",
    "      y_pred = self.get_probabilities(X_train)\n",
    "      grad = np.dot((y_pred - Y_train).T,X_train)\n",
    "      self.weights = self.weights - (self.lr * grad)\n",
    "\n",
    "  def cross_entropy_loss(self,y_pred,y_train):\n",
    "    loss = []\n",
    "    for i,j in zip(y_pred,y_train):\n",
    "      ind = j.tolist().index(1)\n",
    "      loss.append(-np.log(i[ind]))\n",
    "    loss = sum(loss)/len(loss)\n",
    "    return loss\n",
    "\n",
    "  def get_probabilities(self, X_train):\n",
    "    \"\"\"\n",
    "    Calculates the dot product and calls softmax function to get probabilities\n",
    "    Parameters:\n",
    "      X_train - A numpy array containing the feature vector\n",
    "    Returns - A numpy array containing probabilities of each class.\n",
    "    \"\"\"\n",
    "    dot_product = np.dot(X_train,self.weights.T)\n",
    "    return self.softmax(dot_product)\n",
    "\n",
    "  def softmax(self,z):\n",
    "    \"\"\"\n",
    "    Calculates softmax value given dot product\n",
    "    Parameters: \n",
    "      z - Numpy array containing dot product\n",
    "    Returns - A numpy array containing probabilities of each class.\n",
    "    \"\"\"\n",
    "    return np.exp(z) / (np.sum(np.exp(z),axis=1).reshape(-1,1))\n",
    "\n",
    "  def transform_y(self,Y):\n",
    "    \"\"\"\n",
    "    Transforms a single dimension label vector into a multidimensional vector with one hot encoding\n",
    "    Parameters:\n",
    "      Y - A 1D np array\n",
    "    Returns - A 2D np array with one hot encoding\n",
    "    \"\"\"\n",
    "    num_classes = list(np.unique(Y))\n",
    "    one_hot = np.zeros((len(Y),len(num_classes)))\n",
    "    for i,c in enumerate(Y):\n",
    "      one_hot[i][num_classes.index(c)] = 1\n",
    "    return one_hot\n",
    "\n",
    "  def score(self, data):\n",
    "    \"\"\"\n",
    "    Score a given piece of text\n",
    "    you’ll compute e ^ (log(p(c)) + sum(log(p(w_i | c))) here\n",
    "    \n",
    "    Parameters:\n",
    "      data - str like \"I loved the hotel\"\n",
    "    Return: dict of class: score mappings\n",
    "    return a dictionary of the values of P(data | c)  for each class, \n",
    "    as in section 4.3 of the textbook e.g. {\"0\": 0.000061, \"1\": 0.000032}\n",
    "    \"\"\"\n",
    "    data = np.reshape(data,(1, data.size))\n",
    "    prob = self.get_probabilities(data)[0]\n",
    "    del data\n",
    "    result_dict = dict()\n",
    "    i = 0\n",
    "    for label in list(self.labels):\n",
    "      result_dict[str(label)] = prob[i]\n",
    "      i+=1\n",
    "    return result_dict\n",
    "    \n",
    "  def classify(self, data):\n",
    "    \"\"\"\n",
    "    Label a given piece of text\n",
    "    Parameters:\n",
    "      data - str like \"I loved the hotel\"\n",
    "    Return: string class label\n",
    "    \"\"\"\n",
    "    prob_dict = self.score(data)\n",
    "    max_prob = 0\n",
    "    selected_class = None\n",
    "    for key in prob_dict.keys():\n",
    "      if(prob_dict[key] > max_prob):\n",
    "        max_prob = prob_dict[key]\n",
    "        selected_class = key\n",
    "    return selected_class"
   ]
  },
  {
   "cell_type": "markdown",
   "id": "f7a3c2f1",
   "metadata": {},
   "source": [
    "#### Now that the class is defined, we can use it to train our data and see how it performs. "
   ]
  },
  {
   "cell_type": "code",
   "execution_count": 59,
   "id": "1676fe48",
   "metadata": {},
   "outputs": [
    {
     "name": "stdout",
     "output_type": "stream",
     "text": [
      "Accuracy is: 0.7879008746355685\n",
      "              precision    recall  f1-score   support\n",
      "\n",
      "           0       0.79      0.82      0.81      3080\n",
      "           1       0.73      0.59      0.65      1543\n",
      "           2       0.80      0.85      0.82      3609\n",
      "\n",
      "    accuracy                           0.79      8232\n",
      "   macro avg       0.77      0.75      0.76      8232\n",
      "weighted avg       0.79      0.79      0.78      8232\n",
      "\n"
     ]
    }
   ],
   "source": [
    "vectorizer = TfidfVectorizer(analyzer='word',stop_words= 'english',max_features=10000)\n",
    "X_train_lr = vectorizer.fit_transform(train.Tweet.values).toarray()\n",
    "X_test_lr = vectorizer.transform(test.Tweet.values).toarray()\n",
    "y_train_lr = train.Sentiment.values\n",
    "y_test_lr = test.Sentiment.values\n",
    "classifier = LogisticRegression()\n",
    "classifier.train(X_train_lr,y_train_lr)\n",
    "actual_labels = []\n",
    "predicted_labels = []\n",
    "\n",
    "for i in range(X_test_lr.shape[0]):\n",
    "    actual_labels.append(y_test_lr[i])\n",
    "    predicted_labels.append(int(classifier.classify(X_test_lr[i])))\n",
    "print(\"Accuracy is:\",accuracy_score(actual_labels,predicted_labels))\n",
    "print(classification_report(actual_labels,predicted_labels))\n"
   ]
  },
  {
   "cell_type": "markdown",
   "id": "9a5b28a0",
   "metadata": {},
   "source": [
    "### Vectorizing with Count Vectorizer"
   ]
  },
  {
   "cell_type": "code",
   "execution_count": 55,
   "id": "37f38e65",
   "metadata": {},
   "outputs": [
    {
     "name": "stdout",
     "output_type": "stream",
     "text": [
      "X_train.shape :  (32925, 27017)\n",
      "X_train.shape :  (8232, 27017)\n",
      "y_train.shape :  (32925,)\n",
      "y_valid.shape :  (8232,)\n"
     ]
    }
   ],
   "source": [
    "from sklearn.feature_extraction.text import CountVectorizer\n",
    "from nltk.corpus import stopwords\n",
    "stop = list(stopwords.words('english'))\n",
    "vectorizer = CountVectorizer(decode_error = 'replace',stop_words = stop)\n",
    "\n",
    "X_train = vectorizer.fit_transform(train.Tweet.values)\n",
    "X_valid = vectorizer.transform(test.Tweet.values)\n",
    "\n",
    "y_train = train.Sentiment.values\n",
    "y_valid = test.Sentiment.values\n",
    "\n",
    "print(\"X_train.shape : \", X_train.shape)\n",
    "print(\"X_train.shape : \", X_valid.shape)\n",
    "print(\"y_train.shape : \", y_train.shape)\n",
    "print(\"y_valid.shape : \", y_valid.shape)"
   ]
  },
  {
   "cell_type": "markdown",
   "id": "9ebe8adb",
   "metadata": {},
   "source": [
    "### MultiNomial Naive Bayes"
   ]
  },
  {
   "cell_type": "code",
   "execution_count": 44,
   "id": "8f2c67c6",
   "metadata": {},
   "outputs": [
    {
     "name": "stdout",
     "output_type": "stream",
     "text": [
      "training accuracy Score    :  0.7789825360668186\n",
      "Validation accuracy Score :  0.6783284742468416\n",
      "              precision    recall  f1-score   support\n",
      "\n",
      "           0       0.74      0.68      0.71      3346\n",
      "           1       0.23      0.69      0.35       523\n",
      "           2       0.81      0.67      0.74      4363\n",
      "\n",
      "    accuracy                           0.68      8232\n",
      "   macro avg       0.60      0.68      0.60      8232\n",
      "weighted avg       0.75      0.68      0.70      8232\n",
      "\n"
     ]
    }
   ],
   "source": [
    "from sklearn.naive_bayes import MultinomialNB\n",
    "\n",
    "naiveByes_clf = MultinomialNB()\n",
    "\n",
    "naiveByes_clf.fit(X_train,y_train)\n",
    "\n",
    "NB_prediction = naiveByes_clf.predict(X_valid)\n",
    "NB_accuracy = accuracy_score(y_valid,NB_prediction)\n",
    "print(\"training accuracy Score    : \",naiveByes_clf.score(X_train,y_train))\n",
    "print(\"Validation accuracy Score : \",NB_accuracy )\n",
    "print(classification_report(NB_prediction,y_valid))"
   ]
  },
  {
   "cell_type": "markdown",
   "id": "f16e4630",
   "metadata": {},
   "source": [
    "### Logistic Regression"
   ]
  },
  {
   "cell_type": "code",
   "execution_count": 45,
   "id": "5c7ea2fa",
   "metadata": {},
   "outputs": [
    {
     "name": "stdout",
     "output_type": "stream",
     "text": [
      "Training accuracy Score    :  0.9363097949886104\n",
      "Validation accuracy Score :  0.797983479105928\n",
      "              precision    recall  f1-score   support\n",
      "\n",
      "           0       0.81      0.82      0.82      3035\n",
      "           1       0.68      0.69      0.69      1540\n",
      "           2       0.84      0.82      0.83      3657\n",
      "\n",
      "    accuracy                           0.80      8232\n",
      "   macro avg       0.78      0.78      0.78      8232\n",
      "weighted avg       0.80      0.80      0.80      8232\n",
      "\n"
     ]
    }
   ],
   "source": [
    "from sklearn.linear_model import LogisticRegression\n",
    "logreg = LogisticRegression()\n",
    "\n",
    "logreg.fit(X_train, y_train)\n",
    "\n",
    "logreg_prediction = logreg.predict(X_valid)\n",
    "logreg_accuracy = accuracy_score(y_valid,logreg_prediction)\n",
    "print(\"Training accuracy Score    : \",logreg.score(X_train,y_train))\n",
    "print(\"Validation accuracy Score : \",logreg_accuracy )\n",
    "print(classification_report(logreg_prediction,y_valid))"
   ]
  },
  {
   "cell_type": "markdown",
   "id": "409e18f5",
   "metadata": {},
   "source": [
    "### Support Vector Machine"
   ]
  },
  {
   "cell_type": "code",
   "execution_count": 56,
   "id": "2773cb0f",
   "metadata": {},
   "outputs": [
    {
     "name": "stdout",
     "output_type": "stream",
     "text": [
      "Training accuracy Score    :  0.9337281700835232\n",
      "Validation accuracy Score :  0.782312925170068\n",
      "              precision    recall  f1-score   support\n",
      "\n",
      "           0       0.79      0.80      0.79      3041\n",
      "           1       0.67      0.69      0.68      1487\n",
      "           2       0.83      0.80      0.82      3704\n",
      "\n",
      "    accuracy                           0.78      8232\n",
      "   macro avg       0.76      0.77      0.76      8232\n",
      "weighted avg       0.78      0.78      0.78      8232\n",
      "\n"
     ]
    }
   ],
   "source": [
    "from sklearn.svm import SVC\n",
    "\n",
    "svc = SVC()\n",
    "\n",
    "svc.fit(X_train, y_train)\n",
    "\n",
    "svc_prediction = svc.predict(X_valid)\n",
    "svc_accuracy = accuracy_score(y_valid,svc_prediction)\n",
    "print(\"Training accuracy Score    : \",svc.score(X_train,y_train))\n",
    "print(\"Validation accuracy Score : \",svc_accuracy )\n",
    "print(classification_report(svc_prediction,y_valid))"
   ]
  },
  {
   "cell_type": "markdown",
   "id": "15aaca2b",
   "metadata": {},
   "source": [
    "### Random Forest"
   ]
  },
  {
   "cell_type": "code",
   "execution_count": 46,
   "id": "c5a1623f",
   "metadata": {},
   "outputs": [
    {
     "name": "stdout",
     "output_type": "stream",
     "text": [
      "Training accuracy Score    :  0.9963857251328777\n",
      "Validation accuracy Score :  0.7646987366375122\n",
      "              precision    recall  f1-score   support\n",
      "\n",
      "           0       0.75      0.79      0.77      2919\n",
      "           1       0.65      0.71      0.68      1415\n",
      "           2       0.83      0.77      0.80      3898\n",
      "\n",
      "    accuracy                           0.76      8232\n",
      "   macro avg       0.74      0.76      0.75      8232\n",
      "weighted avg       0.77      0.76      0.77      8232\n",
      "\n"
     ]
    }
   ],
   "source": [
    "from sklearn.ensemble import RandomForestClassifier\n",
    "\n",
    "rf_clf = RandomForestClassifier()\n",
    "\n",
    "rf_clf.fit(X_train,y_train)\n",
    "\n",
    "rf_prediction = rf_clf.predict(X_valid)\n",
    "rf_accuracy = accuracy_score(y_valid,rf_prediction)\n",
    "print(\"Training accuracy Score    : \",rf_clf.score(X_train,y_train))\n",
    "print(\"Validation accuracy Score : \",rf_accuracy )\n",
    "print(classification_report(rf_prediction,y_valid))"
   ]
  },
  {
   "cell_type": "markdown",
   "id": "653c548a",
   "metadata": {},
   "source": [
    "### CatBoost"
   ]
  },
  {
   "cell_type": "code",
   "execution_count": 47,
   "id": "f39ecc1b",
   "metadata": {},
   "outputs": [
    {
     "name": "stdout",
     "output_type": "stream",
     "text": [
      "CatBoost model is fitted: True\n"
     ]
    }
   ],
   "source": [
    "\n",
    "from catboost import CatBoostClassifier\n",
    "\n",
    "clf2 = CatBoostClassifier()\n",
    "clf2.fit(X_train, y_train,  \n",
    "        eval_set=(X_valid, y_valid), \n",
    "        verbose=False\n",
    ")\n",
    "\n",
    "print('CatBoost model is fitted: ' + str(clf2.is_fitted()))"
   ]
  },
  {
   "cell_type": "code",
   "execution_count": 48,
   "id": "44659406",
   "metadata": {},
   "outputs": [
    {
     "name": "stdout",
     "output_type": "stream",
     "text": [
      "Training accuracy Score    :  0.8276689445709947\n",
      "Validation accuracy Score :  0.8136540330417882\n",
      "              precision    recall  f1-score   support\n",
      "\n",
      "           0       0.80      0.84      0.82      2941\n",
      "           1       0.77      0.72      0.74      1650\n",
      "           2       0.84      0.84      0.84      3641\n",
      "\n",
      "    accuracy                           0.81      8232\n",
      "   macro avg       0.80      0.80      0.80      8232\n",
      "weighted avg       0.81      0.81      0.81      8232\n",
      "\n"
     ]
    }
   ],
   "source": [
    "catboost_prediction = clf2.predict(X_valid)\n",
    "catboost_accuracy = accuracy_score(y_valid,catboost_prediction)\n",
    "print(\"Training accuracy Score    : \",clf2.score(X_train,y_train))\n",
    "print(\"Validation accuracy Score : \",catboost_accuracy )\n",
    "print(classification_report(catboost_prediction,y_valid))"
   ]
  },
  {
   "cell_type": "markdown",
   "id": "2b243350",
   "metadata": {},
   "source": [
    "### Multi Layer Perceptron"
   ]
  },
  {
   "cell_type": "code",
   "execution_count": 49,
   "id": "4c167235",
   "metadata": {},
   "outputs": [
    {
     "name": "stdout",
     "output_type": "stream",
     "text": [
      "Iteration 1, loss = 0.75243305\n",
      "Validation score: 0.786517\n",
      "Iteration 2, loss = 0.43464589\n",
      "Validation score: 0.802308\n",
      "Iteration 3, loss = 0.30917723\n",
      "Validation score: 0.797145\n",
      "Iteration 4, loss = 0.23836740\n",
      "Validation score: 0.790465\n",
      "Iteration 5, loss = 0.19121536\n",
      "Validation score: 0.784998\n",
      "Iteration 6, loss = 0.15432805\n",
      "Validation score: 0.778621\n",
      "Iteration 7, loss = 0.12795078\n",
      "Validation score: 0.764045\n",
      "Iteration 8, loss = 0.10845255\n",
      "Validation score: 0.771333\n",
      "Iteration 9, loss = 0.09072980\n",
      "Validation score: 0.768600\n",
      "Iteration 10, loss = 0.07654922\n",
      "Validation score: 0.762830\n",
      "Iteration 11, loss = 0.06606220\n",
      "Validation score: 0.764652\n",
      "Iteration 12, loss = 0.05771520\n",
      "Validation score: 0.760401\n",
      "Iteration 13, loss = 0.05009606\n",
      "Validation score: 0.757060\n",
      "Validation score did not improve more than tol=0.000100 for 10 consecutive epochs. Stopping.\n"
     ]
    },
    {
     "data": {
      "text/plain": [
       "MLPClassifier(early_stopping=True, random_state=0, verbose=2)"
      ]
     },
     "execution_count": 49,
     "metadata": {},
     "output_type": "execute_result"
    }
   ],
   "source": [
    "from sklearn.metrics import accuracy_score, confusion_matrix, classification_report\n",
    "from sklearn.neural_network import MLPClassifier\n",
    "mlp = MLPClassifier(random_state=0, early_stopping=True, verbose=2, activation='relu')\n",
    "mlp.fit(X_train, y_train)"
   ]
  },
  {
   "cell_type": "code",
   "execution_count": 50,
   "id": "a4727403",
   "metadata": {},
   "outputs": [
    {
     "name": "stdout",
     "output_type": "stream",
     "text": [
      "MLP Accuracy: 0.79421768707483\n",
      "              precision    recall  f1-score   support\n",
      "\n",
      "           0       0.78      0.84      0.81      3080\n",
      "           1       0.72      0.67      0.69      1543\n",
      "           2       0.84      0.81      0.82      3609\n",
      "\n",
      "    accuracy                           0.79      8232\n",
      "   macro avg       0.78      0.77      0.78      8232\n",
      "weighted avg       0.79      0.79      0.79      8232\n",
      "\n"
     ]
    },
    {
     "data": {
      "image/png": "[encoded data removed]",
      "text/plain": [
       "<Figure size 864x576 with 1 Axes>"
      ]
     },
     "metadata": {},
     "output_type": "display_data"
    }
   ],
   "source": [
    "y_pred_mlp=mlp.predict(X_valid)\n",
    "cm_mlp = confusion_matrix(y_valid, y_pred_mlp)\n",
    "print('MLP Accuracy:', accuracy_score(y_valid, y_pred_mlp))\n",
    "print(classification_report(y_valid, y_pred_mlp))\n",
    "sns.heatmap(cm_mlp, annot=True, fmt='g', cbar=False)\n",
    "plt.xlabel('Predicted Values')\n",
    "plt.ylabel('Actual Values')\n",
    "plt.title('MLP Confusion Matrix')\n",
    "plt.show()"
   ]
  },
  {
   "cell_type": "markdown",
   "id": "bbba703b",
   "metadata": {},
   "source": [
    "#### Vectorizing with Word2Vec"
   ]
  },
  {
   "cell_type": "code",
   "execution_count": 51,
   "id": "266b8081",
   "metadata": {},
   "outputs": [],
   "source": [
    "import gensim\n",
    "from gensim.models import KeyedVectors\n",
    "model = KeyedVectors.load_word2vec_format(\"custom_embeddings.txt\", binary=False)"
   ]
  },
  {
   "cell_type": "code",
   "execution_count": 52,
   "id": "42e66923",
   "metadata": {},
   "outputs": [
    {
     "name": "stdout",
     "output_type": "stream",
     "text": [
      "(32925, 200)\n",
      "(8232, 200)\n"
     ]
    }
   ],
   "source": [
    "\n",
    "X_train = train[\"Tweet\"]\n",
    "y_train = train[\"Sentiment\"]\n",
    "X_test = test[\"Tweet\"]\n",
    "y_test = test[\"Sentiment\"]\n",
    "\n",
    "model1_words = set(model.index_to_key)\n",
    "X_train_vect = np.array([np.array([model[i] for i in ls if i in model1_words])\n",
    "                         for ls in X_train])\n",
    "X_test_vect = np.array([np.array([model[i] for i in ls if i in model1_words])\n",
    "                         for ls in X_test])\n",
    "\n",
    "X_train_vect_avg = []\n",
    "for v in X_train_vect:\n",
    "    if v.size:\n",
    "        X_train_vect_avg.append(v.mean(axis=0))\n",
    "    else:\n",
    "        X_train_vect_avg.append(np.zeros(200, dtype=float))\n",
    "        \n",
    "X_test_vect_avg = []\n",
    "for v in X_test_vect:\n",
    "    if v.size:\n",
    "        X_test_vect_avg.append(v.mean(axis=0))\n",
    "    else:\n",
    "        X_test_vect_avg.append(np.zeros(200, dtype=float))\n",
    "X_train_vect_avg = np.array(X_train_vect_avg)\n",
    "X_test_vect_avg = np.array(X_test_vect_avg)\n",
    "print(X_train_vect_avg.shape)\n",
    "print(X_test_vect_avg.shape)"
   ]
  },
  {
   "cell_type": "code",
   "execution_count": 53,
   "id": "08f54b19",
   "metadata": {},
   "outputs": [
    {
     "name": "stdout",
     "output_type": "stream",
     "text": [
      "Training accuracy Score    :  0.46882308276385726\n",
      "Validation accuracy Score :  0.4716958211856171\n",
      "              precision    recall  f1-score   support\n",
      "\n",
      "           0       0.31      0.46      0.37      2091\n",
      "           1       0.12      0.50      0.19       356\n",
      "           2       0.76      0.48      0.59      5785\n",
      "\n",
      "    accuracy                           0.47      8232\n",
      "   macro avg       0.40      0.48      0.38      8232\n",
      "weighted avg       0.62      0.47      0.51      8232\n",
      "\n"
     ]
    }
   ],
   "source": [
    "from sklearn.linear_model import LogisticRegression\n",
    "logreg = LogisticRegression()\n",
    "\n",
    "logreg.fit(X_train_vect_avg, y_train)\n",
    "\n",
    "logreg_prediction = logreg.predict(X_test_vect_avg)\n",
    "logreg_accuracy = accuracy_score(y_test,logreg_prediction)\n",
    "print(\"Training accuracy Score    : \",logreg.score(X_train_vect_avg,y_train))\n",
    "print(\"Validation accuracy Score : \",logreg_accuracy )\n",
    "print(classification_report(logreg_prediction,y_test))"
   ]
  }
 ],
 "metadata": {
  "kernelspec": {
   "display_name": "Python 3 (ipykernel)",
   "language": "python",
   "name": "python3"
  },
  "language_info": {
   "codemirror_mode": {
    "name": "ipython",
    "version": 3
   },
   "file_extension": ".py",
   "mimetype": "text/x-python",
   "name": "python",
   "nbconvert_exporter": "python",
   "pygments_lexer": "ipython3",
   "version": "3.8.8"
  }
 },
 "nbformat": 4,
 "nbformat_minor": 5
}
