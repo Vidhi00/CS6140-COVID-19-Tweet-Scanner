{
  "nbformat": 4,
  "nbformat_minor": 0,
  "metadata": {
    "colab": {
      "name": "Neural Network model using LSTM.ipynb",
      "provenance": [],
      "collapsed_sections": []
    },
    "kernelspec": {
      "name": "python3",
      "display_name": "Python 3"
    },
    "language_info": {
      "name": "python"
    }
  },
  "cells": [
    {
      "cell_type": "markdown",
      "source": [
        "# CS6140 - Neural Network Approach using LSTM"
      ],
      "metadata": {
        "id": "LgXGfTRxYL0V"
      }
    },
    {
      "cell_type": "markdown",
      "source": [
        "Recurrent neural networks (RNN) in general feature a context memory layer to incorporate previous state and current inputs for propagating information to the next state, and eventually the output layer for decision making. Canonical RNNs (simple RNNs) feature several different architectures, besides the Elman RNN for modelling temporal sequences and dynamical systems. One of the major challenges in training simple RNNs is due to the architecture’s properties of unfolding in time for long-term dependency problems. Backpropagation through time (BPTT), which is an extension of the backpropagation algorithm, has been prominent for training simple RNNs. Due to problem of learning long-term dependencies given vanishing and exploding gradients with simple RNNs, long short-term memory (LSTM) recurrent neural networks have been developed. LSTM networks have better capabilities for learning long-term dependencies in temporal data using memory cells and gates."
      ],
      "metadata": {
        "id": "-ggQx116XHTq"
      }
    },
    {
      "cell_type": "code",
      "execution_count": 48,
      "metadata": {
        "id": "dUQxZA0705M6"
      },
      "outputs": [],
      "source": [
        "# Importing the libraries\n",
        "import pandas as pd\n",
        "import numpy as np\n",
        "import re\n",
        "from sklearn.model_selection import train_test_split\n",
        "\n",
        "import matplotlib.pyplot as plt\n",
        "from wordcloud import WordCloud\n",
        "import seaborn as sns \n",
        "\n",
        "from tensorflow.keras.layers import Dense, Input, LSTM, Embedding, Dropout\n",
        "from tensorflow.keras.preprocessing.sequence import pad_sequences\n",
        "from tensorflow.keras.preprocessing.text import Tokenizer\n",
        "from tensorflow.keras.layers import GlobalMaxPool1D\n",
        "from tensorflow.keras.utils import to_categorical\n",
        "from tensorflow.keras.models import Model\n",
        "\n",
        "from sklearn.metrics import classification_report"
      ]
    },
    {
      "cell_type": "code",
      "source": [
        "# Importing train and test data\n",
        "train = pd.read_csv('Corona_NLP_test.csv',encoding='latin1')\n",
        "\n",
        "test = pd.read_csv('Corona_NLP_test.csv',encoding='latin1')\n",
        "\n",
        "# Combaine train and test set\n",
        "df = train.append(test, ignore_index=True)"
      ],
      "metadata": {
        "id": "sR2monK81Kia"
      },
      "execution_count": 49,
      "outputs": []
    },
    {
      "cell_type": "code",
      "source": [
        "# Converting sentiment into three features, Positive = 2 , Neutral = 1 , Negative =  0\n",
        "def convert_Sentiment(sentiment):\n",
        "    if sentiment == \"Extremely Positive\":\n",
        "        return 2\n",
        "    elif sentiment == \"Extremely Negative\":\n",
        "        return 0\n",
        "    elif sentiment == \"Positive\":\n",
        "        return 2\n",
        "    elif sentiment == \"Negative\":\n",
        "        return 0\n",
        "    else:\n",
        "        return 1"
      ],
      "metadata": {
        "id": "A15Npya41Kft"
      },
      "execution_count": 50,
      "outputs": []
    },
    {
      "cell_type": "code",
      "source": [
        "# Applying convert_Sentiment function\n",
        "df.Sentiment = df.Sentiment.apply(lambda x : convert_Sentiment(x))"
      ],
      "metadata": {
        "id": "Wz2rl-YO1KdC"
      },
      "execution_count": 51,
      "outputs": []
    },
    {
      "cell_type": "code",
      "source": [
        "# Visualizing Sentiment distribution\n",
        "print(df.Sentiment.value_counts())\n",
        "print('*' * 70)\n",
        "plt.figure(figsize = (9,5)) \n",
        "sns.countplot(x = 'Sentiment',data = df)\n",
        "plt.show()"
      ],
      "metadata": {
        "colab": {
          "base_uri": "https://localhost:8080/",
          "height": 423
        },
        "id": "AYeqaHG61Kae",
        "outputId": "56d71561-1b2e-4f64-cc9b-36d44aa4c1ed"
      },
      "execution_count": 52,
      "outputs": [
        {
          "output_type": "stream",
          "name": "stdout",
          "text": [
            "0    3266\n",
            "2    3092\n",
            "1    1238\n",
            "Name: Sentiment, dtype: int64\n",
            "**********************************************************************\n"
          ]
        },
        {
          "output_type": "display_data",
          "data": {
            "text/plain": [
              "<Figure size 648x360 with 1 Axes>"
            ],
            "image/png": "[encoded data removed]"
          },
          "metadata": {
            "needs_background": "light"
          }
        }
      ]
    },
    {
      "cell_type": "markdown",
      "source": [
        "## Data Pre-processing"
      ],
      "metadata": {
        "id": "hmfRS9q_UfSJ"
      }
    },
    {
      "cell_type": "markdown",
      "source": [
        "Textual data in our corpus was cleaned by removing punctuations, url, html links, emojis and special characters."
      ],
      "metadata": {
        "id": "kAxoFyapU0BE"
      }
    },
    {
      "cell_type": "code",
      "source": [
        "# Cleaning textual data\n",
        "def remove_url(text):\n",
        "    url = re.compile(r'https?://\\S+|www\\.\\S+')\n",
        "    return url.sub(r'',text)\n",
        "\n",
        "# Removing url\n",
        "def remove_punct(text):\n",
        "    table = str.maketrans('', '', string.punctuation)\n",
        "    return text.translate(table)\n",
        "\n",
        "# Removing html links\n",
        "def remove_html(text):\n",
        "    html=re.compile(r'<.*?>')\n",
        "    return html.sub(r'',text)\n",
        "\n",
        "# Removing emojis\n",
        "def remove_emoji(text):\n",
        "    emoji_pattern = re.compile(\"[\"\n",
        "                           u\"\\U0001F600-\\U0001F64F\"  # emoticons\n",
        "                           u\"\\U0001F300-\\U0001F5FF\"  # symbols & pictographs\n",
        "                           u\"\\U0001F680-\\U0001F6FF\"  # transport & map symbols\n",
        "                           u\"\\U0001F1E0-\\U0001F1FF\"  # flags (iOS)\n",
        "                           u\"\\U00002702-\\U000027B0\"\n",
        "                           u\"\\U000024C2-\\U0001F251\"\n",
        "                           \"]+\", flags=re.UNICODE)\n",
        "    return emoji_pattern.sub(r'', text)\n",
        "\n",
        "# Separating words which have the same meaning\n",
        "def decontraction(text):\n",
        "    text = re.sub(r\"won\\'t\", \" will not\", text)\n",
        "    text = re.sub(r\"won\\'t've\", \" will not have\", text)\n",
        "    text = re.sub(r\"can\\'t\", \" can not\", text)\n",
        "    text = re.sub(r\"don\\'t\", \" do not\", text)\n",
        "    \n",
        "    text = re.sub(r\"can\\'t've\", \" can not have\", text)\n",
        "    text = re.sub(r\"ma\\'am\", \" madam\", text)\n",
        "    text = re.sub(r\"let\\'s\", \" let us\", text)\n",
        "    text = re.sub(r\"ain\\'t\", \" am not\", text)\n",
        "    text = re.sub(r\"shan\\'t\", \" shall not\", text)\n",
        "    text = re.sub(r\"sha\\n't\", \" shall not\", text)\n",
        "    text = re.sub(r\"o\\'clock\", \" of the clock\", text)\n",
        "    text = re.sub(r\"y\\'all\", \" you all\", text)\n",
        "    \n",
        "    text = re.sub(r\"n\\'t\", \" not\", text)\n",
        "    text = re.sub(r\"n\\'t've\", \" not have\", text)\n",
        "    text = re.sub(r\"\\'re\", \" are\", text)\n",
        "    text = re.sub(r\"\\'s\", \" is\", text)\n",
        "    text = re.sub(r\"\\'d\", \" would\", text)\n",
        "    text = re.sub(r\"\\'d've\", \" would have\", text)\n",
        "    text = re.sub(r\"\\'ll\", \" will\", text)\n",
        "    text = re.sub(r\"\\'t\", \" not\", text)\n",
        "    text = re.sub(r\"\\'ve\", \" have\", text)\n",
        "    text = re.sub(r\"\\'m\", \" am\", text)\n",
        "    text = re.sub(r\"\\'re\", \" are\", text)\n",
        "    return text\n",
        "\n",
        "# Separating alphanumeric characters\n",
        "def seperate_alphanumeric(text):\n",
        "    words = text\n",
        "    words = re.findall(r\"[^\\W\\d_]+|\\d+\", words)\n",
        "    return \" \".join(words)\n",
        "\n",
        "# Counting repeated characters\n",
        "def cont_rep_char(text):\n",
        "    tchr = text.group(0)\n",
        "    if len(tchr) > 1:\n",
        "        return tchr[0:2] \n",
        "\n",
        "# Finding unique characters\n",
        "def unique_char(rep, text):\n",
        "    substitute = re.sub(r'(\\w)\\1+', rep, text)\n",
        "    return substitute\n",
        "\n",
        "# Substiting unique characters in sentences\n",
        "def char(text):\n",
        "    substitute = re.sub(r'[^a-zA-Z]',' ',text)\n",
        "    return substitute\n",
        "\n",
        "# Applying functions on OriginalTweet data\n",
        "df['OriginalTweet'] = df['OriginalTweet'].apply(lambda x : remove_url(x))\n",
        "df['OriginalTweet'] = df['OriginalTweet'].apply(lambda x : remove_emoji(x))\n",
        "df['OriginalTweet'] = df['OriginalTweet'].apply(lambda x : decontraction(x))\n",
        "df['OriginalTweet'] = df['OriginalTweet'].apply(lambda x : seperate_alphanumeric(x))\n",
        "df['OriginalTweet'] = df['OriginalTweet'].apply(lambda x : unique_char(cont_rep_char,x))\n",
        "df['OriginalTweet'] = df['OriginalTweet'].apply(lambda x : char(x))\n",
        "df['OriginalTweet'] = df['OriginalTweet'].apply(lambda x : x.lower())"
      ],
      "metadata": {
        "id": "CDvs_NjB1KUQ"
      },
      "execution_count": 53,
      "outputs": []
    },
    {
      "cell_type": "code",
      "source": [
        "# Splitting sentiment labels \n",
        "Positive = df[df['Sentiment'] == 2].OriginalTweet\n",
        "Neutral  = df[df['Sentiment'] == 1].OriginalTweet\n",
        "Negative = df[df['Sentiment'] == 0].OriginalTweet"
      ],
      "metadata": {
        "id": "De1HmD3W1KH2"
      },
      "execution_count": 54,
      "outputs": []
    },
    {
      "cell_type": "code",
      "source": [
        "X = df['OriginalTweet']\n",
        "y = df['Sentiment']\n",
        "\n",
        "# Splitting the dataset into train and test\n",
        "X_train , X_test , y_train , y_test = train_test_split(X,y,test_size=0.2,random_state=0)"
      ],
      "metadata": {
        "id": "BVH4bJQq11rp"
      },
      "execution_count": 55,
      "outputs": []
    },
    {
      "cell_type": "code",
      "source": [
        "print('Shape of X_train : ' , X_train.shape)\n",
        "print('Shape of y_train : ', y_train.shape)\n",
        "print('Shape of X_test : ', X_test.shape)\n",
        "print('Shape of y_test : ',y_test.shape)"
      ],
      "metadata": {
        "colab": {
          "base_uri": "https://localhost:8080/"
        },
        "id": "uu4O62ih11pX",
        "outputId": "eb685513-3148-45e9-a982-663b7755c995"
      },
      "execution_count": 56,
      "outputs": [
        {
          "output_type": "stream",
          "name": "stdout",
          "text": [
            "Shape of X_train :  (6076,)\n",
            "Shape of y_train :  (6076,)\n",
            "Shape of X_test :  (1520,)\n",
            "Shape of y_test :  (1520,)\n"
          ]
        }
      ]
    },
    {
      "cell_type": "code",
      "source": [
        "# Converting y to categorical values\n",
        "y_train = to_categorical(y_train, 3)\n",
        "y_test  = to_categorical(y_test, 3)"
      ],
      "metadata": {
        "id": "YwbrTrCu11nU"
      },
      "execution_count": 57,
      "outputs": []
    },
    {
      "cell_type": "markdown",
      "source": [
        "Tokenization of Tweets using Tokernizer() and text-to-sequences method."
      ],
      "metadata": {
        "id": "emMx5-eoY55Q"
      }
    },
    {
      "cell_type": "code",
      "source": [
        "# Tokenizing Texts\n",
        "max_features = 20000\n",
        "tokenizer = Tokenizer(num_words=max_features)\n",
        "tokenizer.fit_on_texts(list(X_train))\n",
        "list_tokenized_train = tokenizer.texts_to_sequences(X_train)\n",
        "list_tokenized_test = tokenizer.texts_to_sequences(X_test)"
      ],
      "metadata": {
        "id": "AZ5s5P4r11lM"
      },
      "execution_count": 58,
      "outputs": []
    },
    {
      "cell_type": "code",
      "source": [
        "# Converting tokenized texts into same padding size\n",
        "maxlen = 200\n",
        "embed_size = 128 \n",
        "X_train_final = pad_sequences(list_tokenized_train, maxlen=maxlen)\n",
        "X_test_final = pad_sequences(list_tokenized_test, maxlen=maxlen)"
      ],
      "metadata": {
        "id": "RlUH1q3n11iz"
      },
      "execution_count": 59,
      "outputs": []
    },
    {
      "cell_type": "markdown",
      "source": [
        "## Modeling Methodology"
      ],
      "metadata": {
        "id": "h6Es2G3utwPO"
      }
    },
    {
      "cell_type": "markdown",
      "source": [
        "We present a Neural Network model using LSTM that compares multi-label classification."
      ],
      "metadata": {
        "id": "mTZm-gSOYspr"
      }
    },
    {
      "cell_type": "code",
      "source": [
        "# Creating a Sequential model using hyperparameters\n",
        "inp = Input(shape=(maxlen, )) \n",
        "x   =  Embedding(max_features, embed_size)(inp)\n",
        "x   =  LSTM(60, return_sequences=True,name='lstm_layer')(x)\n",
        "x   =  GlobalMaxPool1D()(x)\n",
        "x   =  Dense(64, activation=\"relu\")(x)\n",
        "x   =  Dropout(0.2)(x)\n",
        "x   =  Dense(3, activation=\"softmax\")(x)"
      ],
      "metadata": {
        "id": "Zv3p_nRZ11gT"
      },
      "execution_count": 60,
      "outputs": []
    },
    {
      "cell_type": "markdown",
      "source": [
        "LSTM Model Summary"
      ],
      "metadata": {
        "id": "Erg7gMBEZGpg"
      }
    },
    {
      "cell_type": "code",
      "source": [
        "# Plotting the model summary for LSTM\n",
        "import tensorflow as tf\n",
        "tf.keras.utils.plot_model(model)"
      ],
      "metadata": {
        "colab": {
          "base_uri": "https://localhost:8080/",
          "height": 661
        },
        "id": "LCYG3gw92s0d",
        "outputId": "9f58a809-6ea3-46b0-fdfa-66e57377b858"
      },
      "execution_count": 61,
      "outputs": [
        {
          "output_type": "execute_result",
          "data": {
            "text/plain": [
              "<IPython.core.display.Image object>"
            ],
            "image/png": "[encoded data removed]"
          },
          "metadata": {},
          "execution_count": 61
        }
      ]
    },
    {
      "cell_type": "markdown",
      "source": [
        "Compiling and training the model on train data"
      ],
      "metadata": {
        "id": "yMAlWsP3ZOiv"
      }
    },
    {
      "cell_type": "code",
      "source": [
        "# Compiling the model using architectural layers and properties\n",
        "model = Model(inputs=inp, outputs=x)\n",
        "model.compile(loss='categorical_crossentropy',\n",
        "              optimizer='adam',\n",
        "              metrics=['accuracy'])"
      ],
      "metadata": {
        "id": "qZpsIQOc11d5"
      },
      "execution_count": 67,
      "outputs": []
    },
    {
      "cell_type": "code",
      "source": [
        "# Training the model for 2 epochs\n",
        "model.fit(X_train_final,y_train, epochs=2,validation_data=(X_test_final,y_test))"
      ],
      "metadata": {
        "colab": {
          "base_uri": "https://localhost:8080/"
        },
        "id": "MR8w4gA311bg",
        "outputId": "2bccdb34-79e8-4419-c9b3-2d856a6564fe"
      },
      "execution_count": 68,
      "outputs": [
        {
          "output_type": "stream",
          "name": "stdout",
          "text": [
            "Epoch 1/2\n",
            "190/190 [==============================] - 37s 175ms/step - loss: 0.0580 - accuracy: 0.9842 - val_loss: 0.3181 - val_accuracy: 0.9217\n",
            "Epoch 2/2\n",
            "190/190 [==============================] - 33s 173ms/step - loss: 0.0221 - accuracy: 0.9944 - val_loss: 0.4124 - val_accuracy: 0.9171\n"
          ]
        },
        {
          "output_type": "execute_result",
          "data": {
            "text/plain": [
              "<keras.callbacks.History at 0x7f051b25e310>"
            ]
          },
          "metadata": {},
          "execution_count": 68
        }
      ]
    },
    {
      "cell_type": "code",
      "source": [
        "# Evaluating the model performance\n",
        "model.evaluate(X_test_final,y_test)"
      ],
      "metadata": {
        "colab": {
          "base_uri": "https://localhost:8080/"
        },
        "id": "gqGfu81Y11ZX",
        "outputId": "1f130a3f-2b7b-48ba-a24c-d229469bee86"
      },
      "execution_count": 74,
      "outputs": [
        {
          "output_type": "stream",
          "name": "stdout",
          "text": [
            "48/48 [==============================] - 2s 45ms/step - loss: 0.4124 - accuracy: 0.9171\n"
          ]
        },
        {
          "output_type": "execute_result",
          "data": {
            "text/plain": [
              "[0.4124337136745453, 0.9171052575111389]"
            ]
          },
          "metadata": {},
          "execution_count": 74
        }
      ]
    },
    {
      "cell_type": "code",
      "source": [
        "# Predicting the model on test data\n",
        "lstm_pred = np.round(model.predict(X_test_final))"
      ],
      "metadata": {
        "id": "B3NGG2_L2P3O"
      },
      "execution_count": 75,
      "outputs": []
    },
    {
      "cell_type": "code",
      "source": [
        "# Performance scores on test data - Precision, Recall, F1-score\n",
        "cr = classification_report(y_test,lstm_pred)\n",
        "print(cr)"
      ],
      "metadata": {
        "colab": {
          "base_uri": "https://localhost:8080/"
        },
        "id": "JVYNsNM92P01",
        "outputId": "62b88cbb-aef1-4910-959c-e56352473af5"
      },
      "execution_count": 76,
      "outputs": [
        {
          "output_type": "stream",
          "name": "stdout",
          "text": [
            "              precision    recall  f1-score   support\n",
            "\n",
            "           0       0.91      0.94      0.92       654\n",
            "           1       0.87      0.91      0.89       263\n",
            "           2       0.96      0.89      0.92       603\n",
            "\n",
            "   micro avg       0.92      0.92      0.92      1520\n",
            "   macro avg       0.91      0.91      0.91      1520\n",
            "weighted avg       0.92      0.92      0.92      1520\n",
            " samples avg       0.92      0.92      0.92      1520\n",
            "\n"
          ]
        },
        {
          "output_type": "stream",
          "name": "stderr",
          "text": [
            "/usr/local/lib/python3.7/dist-packages/sklearn/metrics/_classification.py:1318: UndefinedMetricWarning: Precision and F-score are ill-defined and being set to 0.0 in samples with no predicted labels. Use `zero_division` parameter to control this behavior.\n",
            "  _warn_prf(average, modifier, msg_start, len(result))\n"
          ]
        }
      ]
    }
  ]
}